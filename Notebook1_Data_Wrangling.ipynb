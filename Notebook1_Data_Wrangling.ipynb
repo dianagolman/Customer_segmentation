{
 "cells": [
  {
   "cell_type": "markdown",
   "id": "c53d428a",
   "metadata": {},
   "source": [
    "### Customer segmentation:\n",
    "\n",
    "Customer Personality Analysis (please click on the name) is a publicly available dataset on Kaggle. Acknowledgement: The dataset was provided by Dr. Omar Romero-Hernandez.https://www.kaggle.com/datasets/imakash3011/customer-personality-analysis?resource=download\n",
    "The dataset has 2240 entries that represent customers' interaction with the company's products. \n",
    "It also has 29 features.The customer data will be used to segment and create clusters of customers. \n",
    "The company can use this segmentation to strategize its marketing or product strategies.\n",
    "\n",
    "\n"
   ]
  },
  {
   "cell_type": "code",
   "execution_count": 532,
   "id": "ffedc569",
   "metadata": {},
   "outputs": [],
   "source": [
    "#Imported libraries:\n",
    "\n",
    "import pandas as pd\n",
    "import matplotlib.pyplot as plt\n",
    "import seaborn as sns\n",
    "import numpy as np\n",
    "import os\n",
    "import ssl"
   ]
  },
  {
   "cell_type": "code",
   "execution_count": 533,
   "id": "60673ff6",
   "metadata": {},
   "outputs": [
    {
     "name": "stdout",
     "output_type": "stream",
     "text": [
      "     ID  Year_Birth   Education Marital_Status   Income  Kidhome  Teenhome  \\\n",
      "0  5524        1957  Graduation         Single  58138.0        0         0   \n",
      "1  2174        1954  Graduation         Single  46344.0        1         1   \n",
      "2  4141        1965  Graduation       Together  71613.0        0         0   \n",
      "3  6182        1984  Graduation       Together  26646.0        1         0   \n",
      "4  5324        1981         PhD        Married  58293.0        1         0   \n",
      "\n",
      "  Dt_Customer  Recency  MntWines  ...  NumWebVisitsMonth  AcceptedCmp3  \\\n",
      "0  04-09-2012       58       635  ...                  7             0   \n",
      "1  08-03-2014       38        11  ...                  5             0   \n",
      "2  21-08-2013       26       426  ...                  4             0   \n",
      "3  10-02-2014       26        11  ...                  6             0   \n",
      "4  19-01-2014       94       173  ...                  5             0   \n",
      "\n",
      "   AcceptedCmp4  AcceptedCmp5  AcceptedCmp1  AcceptedCmp2  Complain  \\\n",
      "0             0             0             0             0         0   \n",
      "1             0             0             0             0         0   \n",
      "2             0             0             0             0         0   \n",
      "3             0             0             0             0         0   \n",
      "4             0             0             0             0         0   \n",
      "\n",
      "   Z_CostContact  Z_Revenue  Response  \n",
      "0              3         11         1  \n",
      "1              3         11         0  \n",
      "2              3         11         0  \n",
      "3              3         11         0  \n",
      "4              3         11         0  \n",
      "\n",
      "[5 rows x 29 columns]\n"
     ]
    }
   ],
   "source": [
    "data=pd.read_csv(\"marketing_campaign.csv\", sep=\"\\t\")\n",
    "print(data.head())"
   ]
  },
  {
   "cell_type": "code",
   "execution_count": 534,
   "id": "c7a3bfbb",
   "metadata": {},
   "outputs": [
    {
     "name": "stdout",
     "output_type": "stream",
     "text": [
      "<class 'pandas.core.frame.DataFrame'>\n",
      "RangeIndex: 2240 entries, 0 to 2239\n",
      "Data columns (total 29 columns):\n",
      " #   Column               Non-Null Count  Dtype  \n",
      "---  ------               --------------  -----  \n",
      " 0   ID                   2240 non-null   int64  \n",
      " 1   Year_Birth           2240 non-null   int64  \n",
      " 2   Education            2240 non-null   object \n",
      " 3   Marital_Status       2240 non-null   object \n",
      " 4   Income               2216 non-null   float64\n",
      " 5   Kidhome              2240 non-null   int64  \n",
      " 6   Teenhome             2240 non-null   int64  \n",
      " 7   Dt_Customer          2240 non-null   object \n",
      " 8   Recency              2240 non-null   int64  \n",
      " 9   MntWines             2240 non-null   int64  \n",
      " 10  MntFruits            2240 non-null   int64  \n",
      " 11  MntMeatProducts      2240 non-null   int64  \n",
      " 12  MntFishProducts      2240 non-null   int64  \n",
      " 13  MntSweetProducts     2240 non-null   int64  \n",
      " 14  MntGoldProds         2240 non-null   int64  \n",
      " 15  NumDealsPurchases    2240 non-null   int64  \n",
      " 16  NumWebPurchases      2240 non-null   int64  \n",
      " 17  NumCatalogPurchases  2240 non-null   int64  \n",
      " 18  NumStorePurchases    2240 non-null   int64  \n",
      " 19  NumWebVisitsMonth    2240 non-null   int64  \n",
      " 20  AcceptedCmp3         2240 non-null   int64  \n",
      " 21  AcceptedCmp4         2240 non-null   int64  \n",
      " 22  AcceptedCmp5         2240 non-null   int64  \n",
      " 23  AcceptedCmp1         2240 non-null   int64  \n",
      " 24  AcceptedCmp2         2240 non-null   int64  \n",
      " 25  Complain             2240 non-null   int64  \n",
      " 26  Z_CostContact        2240 non-null   int64  \n",
      " 27  Z_Revenue            2240 non-null   int64  \n",
      " 28  Response             2240 non-null   int64  \n",
      "dtypes: float64(1), int64(25), object(3)\n",
      "memory usage: 507.6+ KB\n"
     ]
    }
   ],
   "source": [
    "data.info()"
   ]
  },
  {
   "cell_type": "code",
   "execution_count": 535,
   "id": "f6f96773",
   "metadata": {},
   "outputs": [
    {
     "data": {
      "text/plain": [
       "Income                 24\n",
       "ID                      0\n",
       "NumDealsPurchases       0\n",
       "Z_Revenue               0\n",
       "Z_CostContact           0\n",
       "Complain                0\n",
       "AcceptedCmp2            0\n",
       "AcceptedCmp1            0\n",
       "AcceptedCmp5            0\n",
       "AcceptedCmp4            0\n",
       "AcceptedCmp3            0\n",
       "NumWebVisitsMonth       0\n",
       "NumStorePurchases       0\n",
       "NumCatalogPurchases     0\n",
       "NumWebPurchases         0\n",
       "MntGoldProds            0\n",
       "Year_Birth              0\n",
       "MntSweetProducts        0\n",
       "MntFishProducts         0\n",
       "MntMeatProducts         0\n",
       "MntFruits               0\n",
       "MntWines                0\n",
       "Recency                 0\n",
       "Dt_Customer             0\n",
       "Teenhome                0\n",
       "Kidhome                 0\n",
       "Marital_Status          0\n",
       "Education               0\n",
       "Response                0\n",
       "dtype: int64"
      ]
     },
     "execution_count": 535,
     "metadata": {},
     "output_type": "execute_result"
    }
   ],
   "source": [
    "# checking for missing values:\n",
    "#data.isna().any()\n",
    "data.isnull().sum().sort_values(ascending=False)"
   ]
  },
  {
   "cell_type": "code",
   "execution_count": 536,
   "id": "1b963e8c",
   "metadata": {},
   "outputs": [
    {
     "name": "stdout",
     "output_type": "stream",
     "text": [
      "52247.25135379061\n",
      "666666.0\n"
     ]
    },
    {
     "data": {
      "text/plain": [
       "<AxesSubplot:>"
      ]
     },
     "execution_count": 536,
     "metadata": {},
     "output_type": "execute_result"
    },
    {
     "data": {
      "image/png": "[encoded data removed]",
      "text/plain": [
       "<Figure size 432x288 with 1 Axes>"
      ]
     },
     "metadata": {
      "needs_background": "light"
     },
     "output_type": "display_data"
    }
   ],
   "source": [
    "print(data['Income'].mean())\n",
    "print(data['Income'].max())\n",
    "#print(data['Income'].value_counts())\n",
    "data['Income'].hist()\n"
   ]
  },
  {
   "cell_type": "code",
   "execution_count": 537,
   "id": "65b04a15",
   "metadata": {},
   "outputs": [
    {
     "name": "stdout",
     "output_type": "stream",
     "text": [
      "51381.5\n",
      "ID                     0\n",
      "Year_Birth             0\n",
      "Education              0\n",
      "Marital_Status         0\n",
      "Income                 0\n",
      "Kidhome                0\n",
      "Teenhome               0\n",
      "Dt_Customer            0\n",
      "Recency                0\n",
      "MntWines               0\n",
      "MntFruits              0\n",
      "MntMeatProducts        0\n",
      "MntFishProducts        0\n",
      "MntSweetProducts       0\n",
      "MntGoldProds           0\n",
      "NumDealsPurchases      0\n",
      "NumWebPurchases        0\n",
      "NumCatalogPurchases    0\n",
      "NumStorePurchases      0\n",
      "NumWebVisitsMonth      0\n",
      "AcceptedCmp3           0\n",
      "AcceptedCmp4           0\n",
      "AcceptedCmp5           0\n",
      "AcceptedCmp1           0\n",
      "AcceptedCmp2           0\n",
      "Complain               0\n",
      "Z_CostContact          0\n",
      "Z_Revenue              0\n",
      "Response               0\n",
      "dtype: int64\n"
     ]
    }
   ],
   "source": [
    "# Since the max value is very high compared to the mean and the  distribution is skewed the missing values will be \n",
    "# replaced by medean and not the mean.\n",
    "median=data['Income'].median()\n",
    "print(median)\n",
    "data['Income']=data['Income'].fillna(data['Income'].median())\n",
    "print(data.isna().sum())\n"
   ]
  },
  {
   "cell_type": "code",
   "execution_count": 538,
   "id": "0cbb867a",
   "metadata": {},
   "outputs": [
    {
     "data": {
      "text/html": [
       "<div>\n",
       "<style scoped>\n",
       "    .dataframe tbody tr th:only-of-type {\n",
       "        vertical-align: middle;\n",
       "    }\n",
       "\n",
       "    .dataframe tbody tr th {\n",
       "        vertical-align: top;\n",
       "    }\n",
       "\n",
       "    .dataframe thead th {\n",
       "        text-align: right;\n",
       "    }\n",
       "</style>\n",
       "<table border=\"1\" class=\"dataframe\">\n",
       "  <thead>\n",
       "    <tr style=\"text-align: right;\">\n",
       "      <th></th>\n",
       "      <th>count</th>\n",
       "      <th>mean</th>\n",
       "      <th>std</th>\n",
       "      <th>min</th>\n",
       "      <th>25%</th>\n",
       "      <th>50%</th>\n",
       "      <th>75%</th>\n",
       "      <th>max</th>\n",
       "    </tr>\n",
       "  </thead>\n",
       "  <tbody>\n",
       "    <tr>\n",
       "      <th>ID</th>\n",
       "      <td>2240.0</td>\n",
       "      <td>5592.159821</td>\n",
       "      <td>3246.662198</td>\n",
       "      <td>0.0</td>\n",
       "      <td>2828.25</td>\n",
       "      <td>5458.5</td>\n",
       "      <td>8427.75</td>\n",
       "      <td>11191.0</td>\n",
       "    </tr>\n",
       "    <tr>\n",
       "      <th>Year_Birth</th>\n",
       "      <td>2240.0</td>\n",
       "      <td>1968.805804</td>\n",
       "      <td>11.984069</td>\n",
       "      <td>1893.0</td>\n",
       "      <td>1959.00</td>\n",
       "      <td>1970.0</td>\n",
       "      <td>1977.00</td>\n",
       "      <td>1996.0</td>\n",
       "    </tr>\n",
       "    <tr>\n",
       "      <th>Income</th>\n",
       "      <td>2240.0</td>\n",
       "      <td>52237.975446</td>\n",
       "      <td>25037.955891</td>\n",
       "      <td>1730.0</td>\n",
       "      <td>35538.75</td>\n",
       "      <td>51381.5</td>\n",
       "      <td>68289.75</td>\n",
       "      <td>666666.0</td>\n",
       "    </tr>\n",
       "    <tr>\n",
       "      <th>Kidhome</th>\n",
       "      <td>2240.0</td>\n",
       "      <td>0.444196</td>\n",
       "      <td>0.538398</td>\n",
       "      <td>0.0</td>\n",
       "      <td>0.00</td>\n",
       "      <td>0.0</td>\n",
       "      <td>1.00</td>\n",
       "      <td>2.0</td>\n",
       "    </tr>\n",
       "    <tr>\n",
       "      <th>Teenhome</th>\n",
       "      <td>2240.0</td>\n",
       "      <td>0.506250</td>\n",
       "      <td>0.544538</td>\n",
       "      <td>0.0</td>\n",
       "      <td>0.00</td>\n",
       "      <td>0.0</td>\n",
       "      <td>1.00</td>\n",
       "      <td>2.0</td>\n",
       "    </tr>\n",
       "    <tr>\n",
       "      <th>Recency</th>\n",
       "      <td>2240.0</td>\n",
       "      <td>49.109375</td>\n",
       "      <td>28.962453</td>\n",
       "      <td>0.0</td>\n",
       "      <td>24.00</td>\n",
       "      <td>49.0</td>\n",
       "      <td>74.00</td>\n",
       "      <td>99.0</td>\n",
       "    </tr>\n",
       "    <tr>\n",
       "      <th>MntWines</th>\n",
       "      <td>2240.0</td>\n",
       "      <td>303.935714</td>\n",
       "      <td>336.597393</td>\n",
       "      <td>0.0</td>\n",
       "      <td>23.75</td>\n",
       "      <td>173.5</td>\n",
       "      <td>504.25</td>\n",
       "      <td>1493.0</td>\n",
       "    </tr>\n",
       "    <tr>\n",
       "      <th>MntFruits</th>\n",
       "      <td>2240.0</td>\n",
       "      <td>26.302232</td>\n",
       "      <td>39.773434</td>\n",
       "      <td>0.0</td>\n",
       "      <td>1.00</td>\n",
       "      <td>8.0</td>\n",
       "      <td>33.00</td>\n",
       "      <td>199.0</td>\n",
       "    </tr>\n",
       "    <tr>\n",
       "      <th>MntMeatProducts</th>\n",
       "      <td>2240.0</td>\n",
       "      <td>166.950000</td>\n",
       "      <td>225.715373</td>\n",
       "      <td>0.0</td>\n",
       "      <td>16.00</td>\n",
       "      <td>67.0</td>\n",
       "      <td>232.00</td>\n",
       "      <td>1725.0</td>\n",
       "    </tr>\n",
       "    <tr>\n",
       "      <th>MntFishProducts</th>\n",
       "      <td>2240.0</td>\n",
       "      <td>37.525446</td>\n",
       "      <td>54.628979</td>\n",
       "      <td>0.0</td>\n",
       "      <td>3.00</td>\n",
       "      <td>12.0</td>\n",
       "      <td>50.00</td>\n",
       "      <td>259.0</td>\n",
       "    </tr>\n",
       "    <tr>\n",
       "      <th>MntSweetProducts</th>\n",
       "      <td>2240.0</td>\n",
       "      <td>27.062946</td>\n",
       "      <td>41.280498</td>\n",
       "      <td>0.0</td>\n",
       "      <td>1.00</td>\n",
       "      <td>8.0</td>\n",
       "      <td>33.00</td>\n",
       "      <td>263.0</td>\n",
       "    </tr>\n",
       "    <tr>\n",
       "      <th>MntGoldProds</th>\n",
       "      <td>2240.0</td>\n",
       "      <td>44.021875</td>\n",
       "      <td>52.167439</td>\n",
       "      <td>0.0</td>\n",
       "      <td>9.00</td>\n",
       "      <td>24.0</td>\n",
       "      <td>56.00</td>\n",
       "      <td>362.0</td>\n",
       "    </tr>\n",
       "    <tr>\n",
       "      <th>NumDealsPurchases</th>\n",
       "      <td>2240.0</td>\n",
       "      <td>2.325000</td>\n",
       "      <td>1.932238</td>\n",
       "      <td>0.0</td>\n",
       "      <td>1.00</td>\n",
       "      <td>2.0</td>\n",
       "      <td>3.00</td>\n",
       "      <td>15.0</td>\n",
       "    </tr>\n",
       "    <tr>\n",
       "      <th>NumWebPurchases</th>\n",
       "      <td>2240.0</td>\n",
       "      <td>4.084821</td>\n",
       "      <td>2.778714</td>\n",
       "      <td>0.0</td>\n",
       "      <td>2.00</td>\n",
       "      <td>4.0</td>\n",
       "      <td>6.00</td>\n",
       "      <td>27.0</td>\n",
       "    </tr>\n",
       "    <tr>\n",
       "      <th>NumCatalogPurchases</th>\n",
       "      <td>2240.0</td>\n",
       "      <td>2.662054</td>\n",
       "      <td>2.923101</td>\n",
       "      <td>0.0</td>\n",
       "      <td>0.00</td>\n",
       "      <td>2.0</td>\n",
       "      <td>4.00</td>\n",
       "      <td>28.0</td>\n",
       "    </tr>\n",
       "    <tr>\n",
       "      <th>NumStorePurchases</th>\n",
       "      <td>2240.0</td>\n",
       "      <td>5.790179</td>\n",
       "      <td>3.250958</td>\n",
       "      <td>0.0</td>\n",
       "      <td>3.00</td>\n",
       "      <td>5.0</td>\n",
       "      <td>8.00</td>\n",
       "      <td>13.0</td>\n",
       "    </tr>\n",
       "    <tr>\n",
       "      <th>NumWebVisitsMonth</th>\n",
       "      <td>2240.0</td>\n",
       "      <td>5.316518</td>\n",
       "      <td>2.426645</td>\n",
       "      <td>0.0</td>\n",
       "      <td>3.00</td>\n",
       "      <td>6.0</td>\n",
       "      <td>7.00</td>\n",
       "      <td>20.0</td>\n",
       "    </tr>\n",
       "    <tr>\n",
       "      <th>AcceptedCmp3</th>\n",
       "      <td>2240.0</td>\n",
       "      <td>0.072768</td>\n",
       "      <td>0.259813</td>\n",
       "      <td>0.0</td>\n",
       "      <td>0.00</td>\n",
       "      <td>0.0</td>\n",
       "      <td>0.00</td>\n",
       "      <td>1.0</td>\n",
       "    </tr>\n",
       "    <tr>\n",
       "      <th>AcceptedCmp4</th>\n",
       "      <td>2240.0</td>\n",
       "      <td>0.074554</td>\n",
       "      <td>0.262728</td>\n",
       "      <td>0.0</td>\n",
       "      <td>0.00</td>\n",
       "      <td>0.0</td>\n",
       "      <td>0.00</td>\n",
       "      <td>1.0</td>\n",
       "    </tr>\n",
       "    <tr>\n",
       "      <th>AcceptedCmp5</th>\n",
       "      <td>2240.0</td>\n",
       "      <td>0.072768</td>\n",
       "      <td>0.259813</td>\n",
       "      <td>0.0</td>\n",
       "      <td>0.00</td>\n",
       "      <td>0.0</td>\n",
       "      <td>0.00</td>\n",
       "      <td>1.0</td>\n",
       "    </tr>\n",
       "    <tr>\n",
       "      <th>AcceptedCmp1</th>\n",
       "      <td>2240.0</td>\n",
       "      <td>0.064286</td>\n",
       "      <td>0.245316</td>\n",
       "      <td>0.0</td>\n",
       "      <td>0.00</td>\n",
       "      <td>0.0</td>\n",
       "      <td>0.00</td>\n",
       "      <td>1.0</td>\n",
       "    </tr>\n",
       "    <tr>\n",
       "      <th>AcceptedCmp2</th>\n",
       "      <td>2240.0</td>\n",
       "      <td>0.013393</td>\n",
       "      <td>0.114976</td>\n",
       "      <td>0.0</td>\n",
       "      <td>0.00</td>\n",
       "      <td>0.0</td>\n",
       "      <td>0.00</td>\n",
       "      <td>1.0</td>\n",
       "    </tr>\n",
       "    <tr>\n",
       "      <th>Complain</th>\n",
       "      <td>2240.0</td>\n",
       "      <td>0.009375</td>\n",
       "      <td>0.096391</td>\n",
       "      <td>0.0</td>\n",
       "      <td>0.00</td>\n",
       "      <td>0.0</td>\n",
       "      <td>0.00</td>\n",
       "      <td>1.0</td>\n",
       "    </tr>\n",
       "    <tr>\n",
       "      <th>Z_CostContact</th>\n",
       "      <td>2240.0</td>\n",
       "      <td>3.000000</td>\n",
       "      <td>0.000000</td>\n",
       "      <td>3.0</td>\n",
       "      <td>3.00</td>\n",
       "      <td>3.0</td>\n",
       "      <td>3.00</td>\n",
       "      <td>3.0</td>\n",
       "    </tr>\n",
       "    <tr>\n",
       "      <th>Z_Revenue</th>\n",
       "      <td>2240.0</td>\n",
       "      <td>11.000000</td>\n",
       "      <td>0.000000</td>\n",
       "      <td>11.0</td>\n",
       "      <td>11.00</td>\n",
       "      <td>11.0</td>\n",
       "      <td>11.00</td>\n",
       "      <td>11.0</td>\n",
       "    </tr>\n",
       "    <tr>\n",
       "      <th>Response</th>\n",
       "      <td>2240.0</td>\n",
       "      <td>0.149107</td>\n",
       "      <td>0.356274</td>\n",
       "      <td>0.0</td>\n",
       "      <td>0.00</td>\n",
       "      <td>0.0</td>\n",
       "      <td>0.00</td>\n",
       "      <td>1.0</td>\n",
       "    </tr>\n",
       "  </tbody>\n",
       "</table>\n",
       "</div>"
      ],
      "text/plain": [
       "                      count          mean           std     min       25%  \\\n",
       "ID                   2240.0   5592.159821   3246.662198     0.0   2828.25   \n",
       "Year_Birth           2240.0   1968.805804     11.984069  1893.0   1959.00   \n",
       "Income               2240.0  52237.975446  25037.955891  1730.0  35538.75   \n",
       "Kidhome              2240.0      0.444196      0.538398     0.0      0.00   \n",
       "Teenhome             2240.0      0.506250      0.544538     0.0      0.00   \n",
       "Recency              2240.0     49.109375     28.962453     0.0     24.00   \n",
       "MntWines             2240.0    303.935714    336.597393     0.0     23.75   \n",
       "MntFruits            2240.0     26.302232     39.773434     0.0      1.00   \n",
       "MntMeatProducts      2240.0    166.950000    225.715373     0.0     16.00   \n",
       "MntFishProducts      2240.0     37.525446     54.628979     0.0      3.00   \n",
       "MntSweetProducts     2240.0     27.062946     41.280498     0.0      1.00   \n",
       "MntGoldProds         2240.0     44.021875     52.167439     0.0      9.00   \n",
       "NumDealsPurchases    2240.0      2.325000      1.932238     0.0      1.00   \n",
       "NumWebPurchases      2240.0      4.084821      2.778714     0.0      2.00   \n",
       "NumCatalogPurchases  2240.0      2.662054      2.923101     0.0      0.00   \n",
       "NumStorePurchases    2240.0      5.790179      3.250958     0.0      3.00   \n",
       "NumWebVisitsMonth    2240.0      5.316518      2.426645     0.0      3.00   \n",
       "AcceptedCmp3         2240.0      0.072768      0.259813     0.0      0.00   \n",
       "AcceptedCmp4         2240.0      0.074554      0.262728     0.0      0.00   \n",
       "AcceptedCmp5         2240.0      0.072768      0.259813     0.0      0.00   \n",
       "AcceptedCmp1         2240.0      0.064286      0.245316     0.0      0.00   \n",
       "AcceptedCmp2         2240.0      0.013393      0.114976     0.0      0.00   \n",
       "Complain             2240.0      0.009375      0.096391     0.0      0.00   \n",
       "Z_CostContact        2240.0      3.000000      0.000000     3.0      3.00   \n",
       "Z_Revenue            2240.0     11.000000      0.000000    11.0     11.00   \n",
       "Response             2240.0      0.149107      0.356274     0.0      0.00   \n",
       "\n",
       "                         50%       75%       max  \n",
       "ID                    5458.5   8427.75   11191.0  \n",
       "Year_Birth            1970.0   1977.00    1996.0  \n",
       "Income               51381.5  68289.75  666666.0  \n",
       "Kidhome                  0.0      1.00       2.0  \n",
       "Teenhome                 0.0      1.00       2.0  \n",
       "Recency                 49.0     74.00      99.0  \n",
       "MntWines               173.5    504.25    1493.0  \n",
       "MntFruits                8.0     33.00     199.0  \n",
       "MntMeatProducts         67.0    232.00    1725.0  \n",
       "MntFishProducts         12.0     50.00     259.0  \n",
       "MntSweetProducts         8.0     33.00     263.0  \n",
       "MntGoldProds            24.0     56.00     362.0  \n",
       "NumDealsPurchases        2.0      3.00      15.0  \n",
       "NumWebPurchases          4.0      6.00      27.0  \n",
       "NumCatalogPurchases      2.0      4.00      28.0  \n",
       "NumStorePurchases        5.0      8.00      13.0  \n",
       "NumWebVisitsMonth        6.0      7.00      20.0  \n",
       "AcceptedCmp3             0.0      0.00       1.0  \n",
       "AcceptedCmp4             0.0      0.00       1.0  \n",
       "AcceptedCmp5             0.0      0.00       1.0  \n",
       "AcceptedCmp1             0.0      0.00       1.0  \n",
       "AcceptedCmp2             0.0      0.00       1.0  \n",
       "Complain                 0.0      0.00       1.0  \n",
       "Z_CostContact            3.0      3.00       3.0  \n",
       "Z_Revenue               11.0     11.00      11.0  \n",
       "Response                 0.0      0.00       1.0  "
      ]
     },
     "execution_count": 538,
     "metadata": {},
     "output_type": "execute_result"
    }
   ],
   "source": [
    "data.describe().T"
   ]
  },
  {
   "cell_type": "code",
   "execution_count": 539,
   "id": "bbafbc39",
   "metadata": {},
   "outputs": [
    {
     "name": "stdout",
     "output_type": "stream",
     "text": [
      "3    2240\n",
      "Name: Z_CostContact, dtype: int64\n",
      "11    2240\n",
      "Name: Z_Revenue, dtype: int64\n"
     ]
    }
   ],
   "source": [
    "# The two features Z_CostContact and Z_Revenue look unimformative, looks like they have the same value for all entress.\n",
    "print(data.Z_CostContact.value_counts())\n",
    "print(data.Z_Revenue.value_counts())"
   ]
  },
  {
   "cell_type": "code",
   "execution_count": 540,
   "id": "f11aa604",
   "metadata": {},
   "outputs": [
    {
     "name": "stdout",
     "output_type": "stream",
     "text": [
      "     ID  Year_Birth   Education Marital_Status   Income  Kidhome  Teenhome  \\\n",
      "0  5524        1957  Graduation         Single  58138.0        0         0   \n",
      "1  2174        1954  Graduation         Single  46344.0        1         1   \n",
      "2  4141        1965  Graduation       Together  71613.0        0         0   \n",
      "3  6182        1984  Graduation       Together  26646.0        1         0   \n",
      "4  5324        1981         PhD        Married  58293.0        1         0   \n",
      "\n",
      "  Dt_Customer  Recency  MntWines  ...  NumCatalogPurchases  NumStorePurchases  \\\n",
      "0  04-09-2012       58       635  ...                   10                  4   \n",
      "1  08-03-2014       38        11  ...                    1                  2   \n",
      "2  21-08-2013       26       426  ...                    2                 10   \n",
      "3  10-02-2014       26        11  ...                    0                  4   \n",
      "4  19-01-2014       94       173  ...                    3                  6   \n",
      "\n",
      "   NumWebVisitsMonth  AcceptedCmp3  AcceptedCmp4  AcceptedCmp5  AcceptedCmp1  \\\n",
      "0                  7             0             0             0             0   \n",
      "1                  5             0             0             0             0   \n",
      "2                  4             0             0             0             0   \n",
      "3                  6             0             0             0             0   \n",
      "4                  5             0             0             0             0   \n",
      "\n",
      "   AcceptedCmp2  Complain  Response  \n",
      "0             0         0         1  \n",
      "1             0         0         0  \n",
      "2             0         0         0  \n",
      "3             0         0         0  \n",
      "4             0         0         0  \n",
      "\n",
      "[5 rows x 27 columns]\n"
     ]
    },
    {
     "data": {
      "text/plain": [
       "Index(['ID', 'Year_Birth', 'Education', 'Marital_Status', 'Income', 'Kidhome',\n",
       "       'Teenhome', 'Dt_Customer', 'Recency', 'MntWines', 'MntFruits',\n",
       "       'MntMeatProducts', 'MntFishProducts', 'MntSweetProducts',\n",
       "       'MntGoldProds', 'NumDealsPurchases', 'NumWebPurchases',\n",
       "       'NumCatalogPurchases', 'NumStorePurchases', 'NumWebVisitsMonth',\n",
       "       'AcceptedCmp3', 'AcceptedCmp4', 'AcceptedCmp5', 'AcceptedCmp1',\n",
       "       'AcceptedCmp2', 'Complain', 'Response'],\n",
       "      dtype='object')"
      ]
     },
     "execution_count": 540,
     "metadata": {},
     "output_type": "execute_result"
    }
   ],
   "source": [
    "# After validating that this two features uninformative , these columns will be dropped.\n",
    "data=data.drop(['Z_CostContact', 'Z_Revenue'], axis=1)\n",
    "print(data.head())\n",
    "data.columns"
   ]
  },
  {
   "cell_type": "code",
   "execution_count": 541,
   "id": "295d6f94",
   "metadata": {},
   "outputs": [],
   "source": [
    "#data.Dt_Customer.hist()\n",
    "data.Dt_Customer=pd.to_datetime(data.Dt_Customer)\n",
    "#data.Dt_Customer.plot()\n",
    "#data['month']=data.Dt_Customer.dt.month\n",
    "#print(data['month'])"
   ]
  },
  {
   "cell_type": "code",
   "execution_count": 542,
   "id": "2c206161",
   "metadata": {},
   "outputs": [
    {
     "name": "stdout",
     "output_type": "stream",
     "text": [
      "       Education Marital_Status\n",
      "0     Graduation         Single\n",
      "1     Graduation         Single\n",
      "2     Graduation       Together\n",
      "3     Graduation       Together\n",
      "4            PhD        Married\n",
      "...          ...            ...\n",
      "2235  Graduation        Married\n",
      "2236         PhD       Together\n",
      "2237  Graduation       Divorced\n",
      "2238      Master       Together\n",
      "2239         PhD        Married\n",
      "\n",
      "[2240 rows x 2 columns]\n",
      "Graduation    1127\n",
      "PhD            486\n",
      "Master         370\n",
      "2n Cycle       203\n",
      "Basic           54\n",
      "Name: Education, dtype: int64\n",
      "Married     864\n",
      "Together    580\n",
      "Single      480\n",
      "Divorced    232\n",
      "Widow        77\n",
      "Alone         3\n",
      "Absurd        2\n",
      "YOLO          2\n",
      "Name: Marital_Status, dtype: int64\n"
     ]
    }
   ],
   "source": [
    "#select columns of dtype 'object'\n",
    "print(data.select_dtypes(\"object\"))\n",
    "print(data.Education.value_counts())\n",
    "print(data.Marital_Status.value_counts())\n"
   ]
  },
  {
   "cell_type": "code",
   "execution_count": 543,
   "id": "1d42307b",
   "metadata": {},
   "outputs": [
    {
     "name": "stdout",
     "output_type": "stream",
     "text": [
      "Married     864\n",
      "Together    580\n",
      "Single      483\n",
      "Divorced    232\n",
      "Widow        77\n",
      "Other         4\n",
      "Name: Marital_Status, dtype: int64\n"
     ]
    },
    {
     "name": "stderr",
     "output_type": "stream",
     "text": [
      "C:\\Users\\Diana\\anaconda3\\lib\\site-packages\\pandas\\core\\indexing.py:1637: SettingWithCopyWarning: \n",
      "A value is trying to be set on a copy of a slice from a DataFrame\n",
      "\n",
      "See the caveats in the documentation: https://pandas.pydata.org/pandas-docs/stable/user_guide/indexing.html#returning-a-view-versus-a-copy\n",
      "  self._setitem_single_block(indexer, value, name)\n"
     ]
    }
   ],
   "source": [
    "# There is a problem with marital status values.There are 3 responces that we need to check. \n",
    "#One hot encoding for two categorigal data with strings will be performed later when preprocessing.\n",
    "# First this rowed willbe isolated to see if there are other problems with the answers.\n",
    "\n",
    "data_spot=data.loc[data['Marital_Status'].isin(['Alone', 'YOLO', 'Absurd'])]\n",
    "data_spot.T\n",
    "data['Marital_Status'].loc[data['Marital_Status']=='Alone']='Single'\n",
    "data['Marital_Status'].loc[data['Marital_Status'].isin(['YOLO', 'Absurd'])]=\"Other\"\n",
    "print(data['Marital_Status'].value_counts())"
   ]
  },
  {
   "cell_type": "code",
   "execution_count": 544,
   "id": "a0fae375",
   "metadata": {},
   "outputs": [
    {
     "data": {
      "text/plain": [
       "0"
      ]
     },
     "execution_count": 544,
     "metadata": {},
     "output_type": "execute_result"
    }
   ],
   "source": [
    "# Check for duplicated rows:\n",
    "data.duplicated().sum()\n",
    "# There are no duplicated rows"
   ]
  },
  {
   "cell_type": "code",
   "execution_count": 564,
   "id": "2fcd2b7a",
   "metadata": {},
   "outputs": [
    {
     "data": {
      "text/plain": [
       "<AxesSubplot:ylabel='Education'>"
      ]
     },
     "execution_count": 564,
     "metadata": {},
     "output_type": "execute_result"
    },
    {
     "data": {
      "image/png": "[encoded data removed]",
      "text/plain": [
       "<Figure size 432x288 with 1 Axes>"
      ]
     },
     "metadata": {},
     "output_type": "display_data"
    }
   ],
   "source": [
    "# Categorical values:\n",
    "data.Education.value_counts().plot(kind='pie' , autopct='%1.1f%%')"
   ]
  },
  {
   "cell_type": "code",
   "execution_count": 546,
   "id": "25d901df",
   "metadata": {},
   "outputs": [
    {
     "data": {
      "text/plain": [
       "Text(0.5, 1.0, 'Marital Status')"
      ]
     },
     "execution_count": 546,
     "metadata": {},
     "output_type": "execute_result"
    },
    {
     "data": {
      "image/png": "[encoded data removed]",
      "text/plain": [
       "<Figure size 288x288 with 1 Axes>"
      ]
     },
     "metadata": {},
     "output_type": "display_data"
    }
   ],
   "source": [
    "data.Marital_Status.value_counts().plot(kind='pie', figsize=(4,4), autopct='%1.1f%%')\n",
    "plt.title(\"Marital Status\")"
   ]
  },
  {
   "cell_type": "code",
   "execution_count": 547,
   "id": "6d8584db",
   "metadata": {},
   "outputs": [
    {
     "data": {
      "image/png": "[encoded data removed]",
      "text/plain": [
       "<Figure size 1080x720 with 25 Axes>"
      ]
     },
     "metadata": {
      "needs_background": "light"
     },
     "output_type": "display_data"
    }
   ],
   "source": [
    "data.hist(figsize=(15, 10))\n",
    "plt.subplots_adjust(hspace=0.5)"
   ]
  },
  {
   "cell_type": "code",
   "execution_count": 548,
   "id": "2122dbcd",
   "metadata": {},
   "outputs": [
    {
     "data": {
      "text/plain": [
       "0    1293\n",
       "1     899\n",
       "2      48\n",
       "Name: Kidhome, dtype: int64"
      ]
     },
     "execution_count": 548,
     "metadata": {},
     "output_type": "execute_result"
    }
   ],
   "source": [
    "# Check feauters that had very high maximum values.\n",
    "data['Kidhome'].value_counts()\n",
    "      #'Teenhome', 'Recency', 'AcceptedCmp3' ,'AcceptedCmp4', 'AcceptedCmp5', 'AcceptedCmp1' ,'AcceptedCmp2' , 'Complain' ]].value_counts()"
   ]
  },
  {
   "cell_type": "code",
   "execution_count": 549,
   "id": "dcfcaefb",
   "metadata": {},
   "outputs": [
    {
     "name": "stdout",
     "output_type": "stream",
     "text": [
      "687.0999999999995\n",
      "21      1725\n",
      "29       801\n",
      "51       780\n",
      "76       925\n",
      "77       779\n",
      "        ... \n",
      "2176     689\n",
      "2187     749\n",
      "2193     845\n",
      "2211     860\n",
      "2228    1607\n",
      "Name: MntMeatProducts, Length: 112, dtype: int64\n",
      "67\n"
     ]
    },
    {
     "name": "stderr",
     "output_type": "stream",
     "text": [
      "<ipython-input-549-ff934886763d>:7: SettingWithCopyWarning: \n",
      "A value is trying to be set on a copy of a slice from a DataFrame\n",
      "\n",
      "See the caveats in the documentation: https://pandas.pydata.org/pandas-docs/stable/user_guide/indexing.html#returning-a-view-versus-a-copy\n",
      "  data['MntMeatProducts'][data['MntMeatProducts']==1725]=data['MntMeatProducts'].median()\n"
     ]
    }
   ],
   "source": [
    "# Check feauters that had very high maximum values or nonlogical prices (like 9 dolars fro gold).\n",
    "\n",
    "\n",
    "q1=data['MntMeatProducts'].quantile(0.95)\n",
    "print(q1)\n",
    "print(data['MntMeatProducts'][data['MntMeatProducts']>q1])\n",
    "data['MntMeatProducts'][data['MntMeatProducts']==1725]=data['MntMeatProducts'].median()\n",
    "print(data['MntMeatProducts'].loc[21])\n",
    "#The high nuber does look like an outlier\n",
    "# and will be dropped.????????????????????????????????????"
   ]
  },
  {
   "cell_type": "code",
   "execution_count": 550,
   "id": "690d5784",
   "metadata": {},
   "outputs": [
    {
     "data": {
      "text/plain": [
       "Index(['ID', 'Year_Birth', 'Education', 'Marital_Status', 'Income', 'Kidhome',\n",
       "       'Teenhome', 'Dt_Customer', 'Recency', 'MntWines', 'MntFruits',\n",
       "       'MntMeatProducts', 'MntFishProducts', 'MntSweetProducts',\n",
       "       'MntGoldProds', 'NumDealsPurchases', 'NumWebPurchases',\n",
       "       'NumCatalogPurchases', 'NumStorePurchases', 'NumWebVisitsMonth',\n",
       "       'AcceptedCmp3', 'AcceptedCmp4', 'AcceptedCmp5', 'AcceptedCmp1',\n",
       "       'AcceptedCmp2', 'Complain', 'Response'],\n",
       "      dtype='object')"
      ]
     },
     "execution_count": 550,
     "metadata": {},
     "output_type": "execute_result"
    }
   ],
   "source": [
    "data.columns"
   ]
  },
  {
   "cell_type": "code",
   "execution_count": 551,
   "id": "d162eafa",
   "metadata": {},
   "outputs": [
    {
     "name": "stdout",
     "output_type": "stream",
     "text": [
      "7       1985\n",
      "1665    1985\n",
      "1564    1985\n",
      "251     1985\n",
      "651     1985\n",
      "        ... \n",
      "1850    1995\n",
      "696     1995\n",
      "2213    1995\n",
      "1170    1996\n",
      "46      1996\n",
      "Name: Year_Birth, Length: 221, dtype: int64\n",
      "1096     79803.0\n",
      "2087     79823.0\n",
      "1563     79865.0\n",
      "557      79908.0\n",
      "228      79930.0\n",
      "          ...   \n",
      "164     157243.0\n",
      "1300    157733.0\n",
      "687     160803.0\n",
      "617     162397.0\n",
      "2233    666666.0\n",
      "Name: Income, Length: 224, dtype: float64\n",
      "777     90\n",
      "1281    90\n",
      "413     90\n",
      "765     90\n",
      "177     90\n",
      "        ..\n",
      "1894    99\n",
      "444     99\n",
      "1473    99\n",
      "1800    99\n",
      "1171    99\n",
      "Name: Recency, Length: 218, dtype: int64\n",
      "1354     823\n",
      "1864     823\n",
      "219      824\n",
      "895      825\n",
      "49       826\n",
      "        ... \n",
      "917     1478\n",
      "2098    1486\n",
      "559     1492\n",
      "824     1492\n",
      "1749    1493\n",
      "Name: MntWines, Length: 224, dtype: int64\n",
      "266      84\n",
      "463      84\n",
      "1469     84\n",
      "1823     84\n",
      "960      85\n",
      "       ... \n",
      "1526    194\n",
      "2217    194\n",
      "1508    197\n",
      "855     199\n",
      "1480    199\n",
      "Name: MntFruits, Length: 219, dtype: int64\n",
      "18       498\n",
      "270      499\n",
      "1680     499\n",
      "2134     500\n",
      "875      500\n",
      "        ... \n",
      "1808     981\n",
      "1358     984\n",
      "164     1582\n",
      "2228    1607\n",
      "687     1622\n",
      "Name: MntMeatProducts, Length: 224, dtype: int64\n",
      "715     121\n",
      "2074    121\n",
      "56      121\n",
      "117     123\n",
      "1674    123\n",
      "       ... \n",
      "214     254\n",
      "1644    258\n",
      "1699    258\n",
      "1799    258\n",
      "1199    259\n",
      "Name: MntFishProducts, Length: 223, dtype: int64\n",
      "392      91\n",
      "423      91\n",
      "798      91\n",
      "987      91\n",
      "1257     91\n",
      "       ... \n",
      "1671    196\n",
      "1513    197\n",
      "634     198\n",
      "1898    262\n",
      "27      263\n",
      "Name: MntSweetProducts, Length: 220, dtype: int64\n",
      "1039    123\n",
      "2111    124\n",
      "133     124\n",
      "168     124\n",
      "414     125\n",
      "       ... \n",
      "723     249\n",
      "1328    262\n",
      "1806    291\n",
      "1975    321\n",
      "27      362\n",
      "Name: MntGoldProds, Length: 223, dtype: int64\n",
      "1306     6\n",
      "555      6\n",
      "579      6\n",
      "1626     6\n",
      "1373     6\n",
      "        ..\n",
      "432     15\n",
      "687     15\n",
      "1042    15\n",
      "164     15\n",
      "21      15\n",
      "Name: NumDealsPurchases, Length: 147, dtype: int64\n",
      "1195     9\n",
      "1544     9\n",
      "1541     9\n",
      "1499     9\n",
      "1498     9\n",
      "        ..\n",
      "1568    11\n",
      "1806    23\n",
      "1975    25\n",
      "1898    27\n",
      "27      27\n",
      "Name: NumWebPurchases, Length: 166, dtype: int64\n",
      "2201     8\n",
      "1767     8\n",
      "875      8\n",
      "804      8\n",
      "803      8\n",
      "        ..\n",
      "984     11\n",
      "164     22\n",
      "687     28\n",
      "1653    28\n",
      "21      28\n",
      "Name: NumCatalogPurchases, Length: 168, dtype: int64\n",
      "15      12\n",
      "1199    12\n",
      "1165    12\n",
      "1765    12\n",
      "1055    12\n",
      "        ..\n",
      "960     13\n",
      "885     13\n",
      "803     13\n",
      "752     13\n",
      "2237    13\n",
      "Name: NumStorePurchases, Length: 188, dtype: int64\n",
      "8        9\n",
      "1607     9\n",
      "1597     9\n",
      "1592     9\n",
      "1568     9\n",
      "        ..\n",
      "1042    19\n",
      "1846    19\n",
      "1245    20\n",
      "774     20\n",
      "9       20\n",
      "Name: NumWebVisitsMonth, Length: 95, dtype: int64\n"
     ]
    }
   ],
   "source": [
    "# Check for otliers on the higher end based on the distributions. also to check for mistakes\n",
    "def check_outliers(column):\n",
    "    q1=data[column].quantile(0.90)\n",
    "    #print(q1)\n",
    "    k=data[column][data[column]>q1].sort_values()\n",
    "    return k\n",
    "    \n",
    "columns_tocheck=['Year_Birth','Income', 'Recency', 'MntWines', 'MntFruits',\n",
    "       'MntMeatProducts', 'MntFishProducts', 'MntSweetProducts',\n",
    "       'MntGoldProds', 'NumDealsPurchases', 'NumWebPurchases',\n",
    "       'NumCatalogPurchases', 'NumStorePurchases', 'NumWebVisitsMonth']\n",
    "\n",
    "for column in columns_tocheck:\n",
    "    print(check_outliers(column))\n",
    "    \n",
    "\n",
    "# Income column defenetly has an outlier.\n",
    "# Others maybe not mistakes but higher end of the distribution will not bre changed but considered when modeling. some models \n",
    "#take that into account."
   ]
  },
  {
   "cell_type": "code",
   "execution_count": 552,
   "id": "a7a2047b",
   "metadata": {},
   "outputs": [
    {
     "data": {
      "text/plain": [
       "51381.5"
      ]
     },
     "execution_count": 552,
     "metadata": {},
     "output_type": "execute_result"
    }
   ],
   "source": [
    "data.Income.median()"
   ]
  },
  {
   "cell_type": "code",
   "execution_count": 553,
   "id": "d53a0d8b",
   "metadata": {},
   "outputs": [
    {
     "name": "stdout",
     "output_type": "stream",
     "text": [
      "                                    2233\n",
      "ID                                  9432\n",
      "Year_Birth                          1977\n",
      "Education                     Graduation\n",
      "Marital_Status                  Together\n",
      "Income                          666666.0\n",
      "Kidhome                                1\n",
      "Teenhome                               0\n",
      "Dt_Customer          2013-02-06 00:00:00\n",
      "Recency                               23\n",
      "MntWines                               9\n",
      "MntFruits                             14\n",
      "MntMeatProducts                       18\n",
      "MntFishProducts                        8\n",
      "MntSweetProducts                       1\n",
      "MntGoldProds                          12\n",
      "NumDealsPurchases                      4\n",
      "NumWebPurchases                        3\n",
      "NumCatalogPurchases                    1\n",
      "NumStorePurchases                      3\n",
      "NumWebVisitsMonth                      6\n",
      "AcceptedCmp3                           0\n",
      "AcceptedCmp4                           0\n",
      "AcceptedCmp5                           0\n",
      "AcceptedCmp1                           0\n",
      "AcceptedCmp2                           0\n",
      "Complain                               0\n",
      "Response                               0\n",
      "51381.5\n"
     ]
    },
    {
     "name": "stderr",
     "output_type": "stream",
     "text": [
      "C:\\Users\\Diana\\anaconda3\\lib\\site-packages\\pandas\\core\\indexing.py:1637: SettingWithCopyWarning: \n",
      "A value is trying to be set on a copy of a slice from a DataFrame\n",
      "\n",
      "See the caveats in the documentation: https://pandas.pydata.org/pandas-docs/stable/user_guide/indexing.html#returning-a-view-versus-a-copy\n",
      "  self._setitem_single_block(indexer, value, name)\n"
     ]
    }
   ],
   "source": [
    "# hange the rwow with very high income an unusual number. This looks more like a mistake. \n",
    "print(data.loc[data.Income==666666.0].T)\n",
    "# Other values look intact. We can cahmnge this mistake income value with the median. \n",
    "data.Income.loc[data.Income==666666.0]=data.Income.median()\n",
    "print(data.Income.iloc[2233])\n",
    "#Can This be used or droped????????????????????????????????????????"
   ]
  },
  {
   "cell_type": "code",
   "execution_count": 554,
   "id": "0adf7aee",
   "metadata": {},
   "outputs": [
    {
     "name": "stdout",
     "output_type": "stream",
     "text": [
      "1959.0\n",
      "239     1893\n",
      "339     1899\n",
      "192     1900\n",
      "1950    1940\n",
      "424     1941\n",
      "        ... \n",
      "804     1958\n",
      "1734    1958\n",
      "828     1958\n",
      "1877    1958\n",
      "751     1958\n",
      "Name: Year_Birth, Length: 519, dtype: int64\n",
      "9.0\n",
      "1       6\n",
      "3       5\n",
      "8       2\n",
      "10      1\n",
      "14      5\n",
      "       ..\n",
      "2216    6\n",
      "2218    1\n",
      "2223    3\n",
      "2232    3\n",
      "2236    8\n",
      "Name: MntGoldProds, Length: 549, dtype: int64\n"
     ]
    }
   ],
   "source": [
    "# The lower bound of most features look good eccept Year of Birth and gold products purcheses. \n",
    "#The 25th percentile of goldpurchess look unusual, only 9. \n",
    "# There is a need to check the 'MntGoldProds' feature.\n",
    "\n",
    "q1=data['Year_Birth'].quantile(0.25)\n",
    "print(q1)\n",
    "print(data['Year_Birth'][data['Year_Birth']<q1].sort_values())\n",
    "\n",
    "q1=data['MntGoldProds'].quantile(0.25)\n",
    "print(q1)\n",
    "print(data['MntGoldProds'][data['MntGoldProds']<q1])"
   ]
  },
  {
   "cell_type": "code",
   "execution_count": 555,
   "id": "90eef610",
   "metadata": {},
   "outputs": [
    {
     "name": "stdout",
     "output_type": "stream",
     "text": [
      "0       False\n",
      "1       False\n",
      "2       False\n",
      "3       False\n",
      "4       False\n",
      "        ...  \n",
      "2235    False\n",
      "2236    False\n",
      "2237    False\n",
      "2238    False\n",
      "2239    False\n",
      "Name: Year_Birth, Length: 2240, dtype: bool\n"
     ]
    },
    {
     "data": {
      "text/plain": [
       "1940"
      ]
     },
     "execution_count": 555,
     "metadata": {},
     "output_type": "execute_result"
    }
   ],
   "source": [
    "# For gold products it makes sence as there are 549 lower values, meaning this is a standard price range for this type of products.\n",
    "# For year of birth, there are three people that their date of birth was more than 122 year ago.\n",
    "# These three rows will be droped , since we don't know their age and it's important for  correct clustering. \n",
    "#print(data.head())\n",
    "mistakes_year=data['Year_Birth']<=1900\n",
    "print(mistakes_year)\n",
    "data=data[~mistakes_year]\n",
    "\n",
    "data['Year_Birth'].min()                        "
   ]
  },
  {
   "cell_type": "code",
   "execution_count": 556,
   "id": "4d8b274c",
   "metadata": {},
   "outputs": [
    {
     "name": "stdout",
     "output_type": "stream",
     "text": [
      "56    37\n",
      "30    32\n",
      "54    32\n",
      "46    31\n",
      "49    30\n",
      "      ..\n",
      "41    15\n",
      "59    14\n",
      "22    13\n",
      "7     12\n",
      "44    11\n",
      "Name: Recency, Length: 100, dtype: int64\n"
     ]
    },
    {
     "data": {
      "text/plain": [
       "99"
      ]
     },
     "execution_count": 556,
     "metadata": {},
     "output_type": "execute_result"
    },
    {
     "data": {
      "image/png": "[encoded data removed]",
      "text/plain": [
       "<Figure size 432x288 with 1 Axes>"
      ]
     },
     "metadata": {
      "needs_background": "light"
     },
     "output_type": "display_data"
    }
   ],
   "source": [
    "data.Recency.hist()\n",
    "print(data.Recency.value_counts().sort_values(ascending=False))\n",
    "data.Recency.max()"
   ]
  },
  {
   "cell_type": "code",
   "execution_count": 557,
   "id": "ce23ad0c",
   "metadata": {},
   "outputs": [
    {
     "name": "stdout",
     "output_type": "stream",
     "text": [
      "56    37\n",
      "30    32\n",
      "54    32\n",
      "46    31\n",
      "49    30\n",
      "      ..\n",
      "41    15\n",
      "59    14\n",
      "22    13\n",
      "7     12\n",
      "44    11\n",
      "Name: Recency, Length: 100, dtype: int64\n"
     ]
    }
   ],
   "source": [
    "print(data.Recency.value_counts().sort_values(ascending=False))"
   ]
  },
  {
   "cell_type": "code",
   "execution_count": 558,
   "id": "d23bf426",
   "metadata": {},
   "outputs": [
    {
     "name": "stdout",
     "output_type": "stream",
     "text": [
      "1     43.227537\n",
      "2     22.217255\n",
      "3     13.276710\n",
      "4      8.448815\n",
      "5      4.202056\n",
      "6      2.726866\n",
      "0      2.056325\n",
      "7      1.788109\n",
      "8      0.625838\n",
      "9      0.357622\n",
      "15     0.312919\n",
      "10     0.223514\n",
      "11     0.223514\n",
      "12     0.178811\n",
      "13     0.134108\n",
      "Name: NumDealsPurchases, dtype: float64\n",
      "2     16.629414\n",
      "1     15.780063\n",
      "3     15.020116\n",
      "4     12.472061\n",
      "5      9.834600\n",
      "6      9.164059\n",
      "7      6.928923\n",
      "8      4.559678\n",
      "9      3.352705\n",
      "0      2.190434\n",
      "11     1.966920\n",
      "10     1.922217\n",
      "27     0.089405\n",
      "23     0.044703\n",
      "25     0.044703\n",
      "Name: NumWebPurchases, dtype: float64\n",
      "0     26.151095\n",
      "1     22.172553\n",
      "2     12.337953\n",
      "3      8.225302\n",
      "4      8.135896\n",
      "5      6.258382\n",
      "6      5.677246\n",
      "7      3.531515\n",
      "8      2.458650\n",
      "10     2.145731\n",
      "9      1.877515\n",
      "11     0.849352\n",
      "28     0.134108\n",
      "22     0.044703\n",
      "Name: NumCatalogPurchases, dtype: float64\n",
      "3     21.904336\n",
      "4     14.394278\n",
      "2      9.879303\n",
      "5      9.476978\n",
      "6      7.957085\n",
      "8      6.660706\n",
      "7      6.392490\n",
      "10     5.587841\n",
      "9      4.738489\n",
      "12     4.693786\n",
      "13     3.710326\n",
      "11     3.620921\n",
      "0      0.670541\n",
      "1      0.312919\n",
      "Name: NumStorePurchases, dtype: float64\n",
      "7     17.568172\n",
      "8     15.288333\n",
      "6     15.198927\n",
      "5     12.516764\n",
      "4      9.700492\n",
      "3      9.164059\n",
      "2      9.029951\n",
      "1      6.794814\n",
      "9      3.710326\n",
      "0      0.491730\n",
      "10     0.134108\n",
      "20     0.134108\n",
      "14     0.089405\n",
      "19     0.089405\n",
      "13     0.044703\n",
      "17     0.044703\n",
      "Name: NumWebVisitsMonth, dtype: float64\n",
      "0    92.713456\n",
      "1     7.286544\n",
      "Name: AcceptedCmp3, dtype: float64\n",
      "0    92.534645\n",
      "1     7.465355\n",
      "Name: AcceptedCmp4, dtype: float64\n",
      "0    92.758158\n",
      "1     7.241842\n",
      "Name: AcceptedCmp5, dtype: float64\n",
      "0    93.562807\n",
      "1     6.437193\n",
      "Name: AcceptedCmp1, dtype: float64\n",
      "0    98.658918\n",
      "1     1.341082\n",
      "Name: AcceptedCmp2, dtype: float64\n",
      "0    99.105945\n",
      "1     0.894055\n",
      "Name: Complain, dtype: float64\n",
      "0    85.069289\n",
      "1    14.930711\n",
      "Name: Response, dtype: float64\n"
     ]
    }
   ],
   "source": [
    "# Check for percent of response , it looks very low. \n",
    "columns_per=['NumDealsPurchases', 'NumWebPurchases',\n",
    "       'NumCatalogPurchases', 'NumStorePurchases', 'NumWebVisitsMonth',\n",
    "       'AcceptedCmp3', 'AcceptedCmp4', 'AcceptedCmp5', 'AcceptedCmp1',\n",
    "       'AcceptedCmp2', 'Complain', 'Response']\n",
    "\n",
    "for col in columns_per:\n",
    "    percent=data[col].value_counts()*100/len(data[col])\n",
    "    print(percent)"
   ]
  },
  {
   "cell_type": "code",
   "execution_count": 559,
   "id": "f7168900",
   "metadata": {},
   "outputs": [
    {
     "name": "stdout",
     "output_type": "stream",
     "text": [
      "0    1775\n",
      "1     324\n",
      "2      83\n",
      "3      44\n",
      "4      11\n",
      "Name: any_promo, dtype: int64\n"
     ]
    }
   ],
   "source": [
    "# We can see that the acceptance rate was low , the latest promotion were more accepted. \n",
    "#After better exploring the data We can create a new feature sum of privious promoshions, 0 didn't accept any.\n",
    "#This will be hot encoded in preprocessing stage.\n",
    "data_c=data\n",
    "data_c['any_promo']=data_c[['AcceptedCmp1', 'AcceptedCmp2', 'AcceptedCmp3', 'AcceptedCmp4', 'AcceptedCmp5']].sum(axis=1)\n",
    "#print(data_c.head().T)\n",
    "print(data_c.any_promo.value_counts())"
   ]
  },
  {
   "cell_type": "code",
   "execution_count": null,
   "id": "aa5494cb",
   "metadata": {},
   "outputs": [],
   "source": []
  },
  {
   "cell_type": "code",
   "execution_count": 560,
   "id": "5cde5f97",
   "metadata": {},
   "outputs": [],
   "source": [
    "# The clean data will be saved to a new file. The new columns will be used in the next notebook. \n",
    "\n",
    "data_c.to_csv('data_c.csv')\n"
   ]
  }
 ],
 "metadata": {
  "kernelspec": {
   "display_name": "Python 3",
   "language": "python",
   "name": "python3"
  },
  "language_info": {
   "codemirror_mode": {
    "name": "ipython",
    "version": 3
   },
   "file_extension": ".py",
   "mimetype": "text/x-python",
   "name": "python",
   "nbconvert_exporter": "python",
   "pygments_lexer": "ipython3",
   "version": "3.8.8"
  }
 },
 "nbformat": 4,
 "nbformat_minor": 5
}
