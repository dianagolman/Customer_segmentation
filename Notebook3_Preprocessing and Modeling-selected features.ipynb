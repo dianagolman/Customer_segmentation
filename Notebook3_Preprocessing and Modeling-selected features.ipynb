{
 "cells": [
  {
   "cell_type": "code",
   "execution_count": 2,
   "id": "db2f3152",
   "metadata": {},
   "outputs": [],
   "source": [
    "import numpy as np \n",
    "import pandas as pd \n",
    "import pickle\n",
    "import matplotlib.pyplot as plt \n",
    "import seaborn as sns\n",
    "import scipy.stats as stats\n",
    "from scipy.stats import ttest_ind, pearsonr\n",
    "import datetime\n",
    "from sklearn.cluster import KMeans\n",
    "from sklearn.metrics import silhouette_score\n",
    "from sklearn.preprocessing import StandardScaler\n",
    "from kneed import DataGenerator, KneeLocator\n",
    "from sklearn.model_selection import GridSearchCV, RandomizedSearchCV, RepeatedStratifiedKFold, cross_val_score\n",
    "from sklearn.metrics import make_scorer\n",
    "from sklearn.decomposition import PCA\n",
    "import sklearn.decomposition\n",
    "from sklearn.cluster import MeanShift, estimate_bandwidth, Birch, BisectingKMeans,AffinityPropagation\n",
    "from sklearn.mixture import GaussianMixture\n",
    "from sklearn_extra.cluster import KMedoids\n",
    "from skopt import BayesSearchCV\n",
    "import itertools as it"
   ]
  },
  {
   "cell_type": "code",
   "execution_count": 3,
   "id": "10b0792e",
   "metadata": {},
   "outputs": [],
   "source": [
    "import warnings\n",
    "warnings.filterwarnings('ignore')\n",
    "warnings.simplefilter('ignore')"
   ]
  },
  {
   "cell_type": "code",
   "execution_count": 4,
   "id": "4f9f6f4d",
   "metadata": {},
   "outputs": [
    {
     "data": {
      "text/html": [
       "<div>\n",
       "<style scoped>\n",
       "    .dataframe tbody tr th:only-of-type {\n",
       "        vertical-align: middle;\n",
       "    }\n",
       "\n",
       "    .dataframe tbody tr th {\n",
       "        vertical-align: top;\n",
       "    }\n",
       "\n",
       "    .dataframe thead th {\n",
       "        text-align: right;\n",
       "    }\n",
       "</style>\n",
       "<table border=\"1\" class=\"dataframe\">\n",
       "  <thead>\n",
       "    <tr style=\"text-align: right;\">\n",
       "      <th></th>\n",
       "      <th>Unnamed: 0</th>\n",
       "      <th>Unnamed: 0.1</th>\n",
       "      <th>ID</th>\n",
       "      <th>Year_Birth</th>\n",
       "      <th>Education</th>\n",
       "      <th>Marital_Status</th>\n",
       "      <th>Income</th>\n",
       "      <th>Kidhome</th>\n",
       "      <th>Teenhome</th>\n",
       "      <th>Dt_Customer</th>\n",
       "      <th>...</th>\n",
       "      <th>AcceptedCmp4</th>\n",
       "      <th>AcceptedCmp5</th>\n",
       "      <th>AcceptedCmp1</th>\n",
       "      <th>AcceptedCmp2</th>\n",
       "      <th>Complain</th>\n",
       "      <th>Response</th>\n",
       "      <th>any_promo</th>\n",
       "      <th>Total_products</th>\n",
       "      <th>Total_spent</th>\n",
       "      <th>days_customer</th>\n",
       "    </tr>\n",
       "  </thead>\n",
       "  <tbody>\n",
       "    <tr>\n",
       "      <th>0</th>\n",
       "      <td>0</td>\n",
       "      <td>0</td>\n",
       "      <td>5524</td>\n",
       "      <td>1957</td>\n",
       "      <td>Graduation</td>\n",
       "      <td>Single</td>\n",
       "      <td>58138.0</td>\n",
       "      <td>0</td>\n",
       "      <td>0</td>\n",
       "      <td>2012-04-09</td>\n",
       "      <td>...</td>\n",
       "      <td>0</td>\n",
       "      <td>0</td>\n",
       "      <td>0</td>\n",
       "      <td>0</td>\n",
       "      <td>0</td>\n",
       "      <td>1</td>\n",
       "      <td>0</td>\n",
       "      <td>1617</td>\n",
       "      <td>22</td>\n",
       "      <td>971</td>\n",
       "    </tr>\n",
       "    <tr>\n",
       "      <th>1</th>\n",
       "      <td>1</td>\n",
       "      <td>1</td>\n",
       "      <td>2174</td>\n",
       "      <td>1954</td>\n",
       "      <td>Graduation</td>\n",
       "      <td>Single</td>\n",
       "      <td>46344.0</td>\n",
       "      <td>1</td>\n",
       "      <td>1</td>\n",
       "      <td>2014-08-03</td>\n",
       "      <td>...</td>\n",
       "      <td>0</td>\n",
       "      <td>0</td>\n",
       "      <td>0</td>\n",
       "      <td>0</td>\n",
       "      <td>0</td>\n",
       "      <td>0</td>\n",
       "      <td>0</td>\n",
       "      <td>27</td>\n",
       "      <td>4</td>\n",
       "      <td>125</td>\n",
       "    </tr>\n",
       "    <tr>\n",
       "      <th>2</th>\n",
       "      <td>2</td>\n",
       "      <td>2</td>\n",
       "      <td>4141</td>\n",
       "      <td>1965</td>\n",
       "      <td>Graduation</td>\n",
       "      <td>Together</td>\n",
       "      <td>71613.0</td>\n",
       "      <td>0</td>\n",
       "      <td>0</td>\n",
       "      <td>2013-08-21</td>\n",
       "      <td>...</td>\n",
       "      <td>0</td>\n",
       "      <td>0</td>\n",
       "      <td>0</td>\n",
       "      <td>0</td>\n",
       "      <td>0</td>\n",
       "      <td>0</td>\n",
       "      <td>0</td>\n",
       "      <td>776</td>\n",
       "      <td>20</td>\n",
       "      <td>472</td>\n",
       "    </tr>\n",
       "    <tr>\n",
       "      <th>3</th>\n",
       "      <td>3</td>\n",
       "      <td>3</td>\n",
       "      <td>6182</td>\n",
       "      <td>1984</td>\n",
       "      <td>Graduation</td>\n",
       "      <td>Together</td>\n",
       "      <td>26646.0</td>\n",
       "      <td>1</td>\n",
       "      <td>0</td>\n",
       "      <td>2014-10-02</td>\n",
       "      <td>...</td>\n",
       "      <td>0</td>\n",
       "      <td>0</td>\n",
       "      <td>0</td>\n",
       "      <td>0</td>\n",
       "      <td>0</td>\n",
       "      <td>0</td>\n",
       "      <td>0</td>\n",
       "      <td>53</td>\n",
       "      <td>6</td>\n",
       "      <td>65</td>\n",
       "    </tr>\n",
       "    <tr>\n",
       "      <th>4</th>\n",
       "      <td>4</td>\n",
       "      <td>4</td>\n",
       "      <td>5324</td>\n",
       "      <td>1981</td>\n",
       "      <td>PhD</td>\n",
       "      <td>Married</td>\n",
       "      <td>58293.0</td>\n",
       "      <td>1</td>\n",
       "      <td>0</td>\n",
       "      <td>2014-01-19</td>\n",
       "      <td>...</td>\n",
       "      <td>0</td>\n",
       "      <td>0</td>\n",
       "      <td>0</td>\n",
       "      <td>0</td>\n",
       "      <td>0</td>\n",
       "      <td>0</td>\n",
       "      <td>0</td>\n",
       "      <td>422</td>\n",
       "      <td>14</td>\n",
       "      <td>321</td>\n",
       "    </tr>\n",
       "  </tbody>\n",
       "</table>\n",
       "<p>5 rows × 33 columns</p>\n",
       "</div>"
      ],
      "text/plain": [
       "   Unnamed: 0  Unnamed: 0.1    ID  Year_Birth   Education Marital_Status  \\\n",
       "0           0             0  5524        1957  Graduation         Single   \n",
       "1           1             1  2174        1954  Graduation         Single   \n",
       "2           2             2  4141        1965  Graduation       Together   \n",
       "3           3             3  6182        1984  Graduation       Together   \n",
       "4           4             4  5324        1981         PhD        Married   \n",
       "\n",
       "    Income  Kidhome  Teenhome Dt_Customer  ...  AcceptedCmp4  AcceptedCmp5  \\\n",
       "0  58138.0        0         0  2012-04-09  ...             0             0   \n",
       "1  46344.0        1         1  2014-08-03  ...             0             0   \n",
       "2  71613.0        0         0  2013-08-21  ...             0             0   \n",
       "3  26646.0        1         0  2014-10-02  ...             0             0   \n",
       "4  58293.0        1         0  2014-01-19  ...             0             0   \n",
       "\n",
       "   AcceptedCmp1  AcceptedCmp2  Complain  Response  any_promo  Total_products  \\\n",
       "0             0             0         0         1          0            1617   \n",
       "1             0             0         0         0          0              27   \n",
       "2             0             0         0         0          0             776   \n",
       "3             0             0         0         0          0              53   \n",
       "4             0             0         0         0          0             422   \n",
       "\n",
       "   Total_spent  days_customer  \n",
       "0           22            971  \n",
       "1            4            125  \n",
       "2           20            472  \n",
       "3            6             65  \n",
       "4           14            321  \n",
       "\n",
       "[5 rows x 33 columns]"
      ]
     },
     "execution_count": 4,
     "metadata": {},
     "output_type": "execute_result"
    }
   ],
   "source": [
    "# Load clean data:\n",
    "data_c=pd.read_csv('data_clean.csv')\n",
    "data_c.head()\n",
    "#data_c['years_c"
   ]
  },
  {
   "cell_type": "code",
   "execution_count": 5,
   "id": "9fb10388",
   "metadata": {},
   "outputs": [
    {
     "name": "stdout",
     "output_type": "stream",
     "text": [
      "<class 'pandas.core.frame.DataFrame'>\n",
      "RangeIndex: 2237 entries, 0 to 2236\n",
      "Data columns (total 33 columns):\n",
      " #   Column               Non-Null Count  Dtype  \n",
      "---  ------               --------------  -----  \n",
      " 0   Unnamed: 0           2237 non-null   int64  \n",
      " 1   Unnamed: 0.1         2237 non-null   int64  \n",
      " 2   ID                   2237 non-null   int64  \n",
      " 3   Year_Birth           2237 non-null   int64  \n",
      " 4   Education            2237 non-null   object \n",
      " 5   Marital_Status       2237 non-null   object \n",
      " 6   Income               2237 non-null   float64\n",
      " 7   Kidhome              2237 non-null   int64  \n",
      " 8   Teenhome             2237 non-null   int64  \n",
      " 9   Dt_Customer          2237 non-null   object \n",
      " 10  Recency              2237 non-null   int64  \n",
      " 11  MntWines             2237 non-null   int64  \n",
      " 12  MntFruits            2237 non-null   int64  \n",
      " 13  MntMeatProducts      2237 non-null   int64  \n",
      " 14  MntFishProducts      2237 non-null   int64  \n",
      " 15  MntSweetProducts     2237 non-null   int64  \n",
      " 16  MntGoldProds         2237 non-null   int64  \n",
      " 17  NumDealsPurchases    2237 non-null   int64  \n",
      " 18  NumWebPurchases      2237 non-null   int64  \n",
      " 19  NumCatalogPurchases  2237 non-null   int64  \n",
      " 20  NumStorePurchases    2237 non-null   int64  \n",
      " 21  NumWebVisitsMonth    2237 non-null   int64  \n",
      " 22  AcceptedCmp3         2237 non-null   int64  \n",
      " 23  AcceptedCmp4         2237 non-null   int64  \n",
      " 24  AcceptedCmp5         2237 non-null   int64  \n",
      " 25  AcceptedCmp1         2237 non-null   int64  \n",
      " 26  AcceptedCmp2         2237 non-null   int64  \n",
      " 27  Complain             2237 non-null   int64  \n",
      " 28  Response             2237 non-null   int64  \n",
      " 29  any_promo            2237 non-null   int64  \n",
      " 30  Total_products       2237 non-null   int64  \n",
      " 31  Total_spent          2237 non-null   int64  \n",
      " 32  days_customer        2237 non-null   int64  \n",
      "dtypes: float64(1), int64(29), object(3)\n",
      "memory usage: 576.9+ KB\n"
     ]
    }
   ],
   "source": [
    "data_c.info()"
   ]
  },
  {
   "cell_type": "code",
   "execution_count": 6,
   "id": "da4cc7d9",
   "metadata": {},
   "outputs": [
    {
     "data": {
      "text/plain": [
       "Index(['NumDealsPurchases', 'Response', 'any_promo', 'Total_products',\n",
       "       'Total_spent'],\n",
       "      dtype='object')"
      ]
     },
     "execution_count": 6,
     "metadata": {},
     "output_type": "execute_result"
    }
   ],
   "source": [
    "# I will only keep summarized features and theoreticly interesting to client in the porpose of clusification.\n",
    "#Categorical demographic features will be droped.\n",
    "data_b=data_c.drop(['Unnamed: 0','Unnamed: 0.1','ID','Dt_Customer', 'AcceptedCmp1', 'AcceptedCmp2','AcceptedCmp3','AcceptedCmp4','AcceptedCmp5','MntWines','MntFruits',\n",
    "                   'MntMeatProducts','MntFishProducts',  'MntSweetProducts' ,'MntGoldProds','NumWebPurchases', 'NumCatalogPurchases','NumStorePurchases', \n",
    "                   'Education','Marital_Status', 'Year_Birth', 'Income', 'Kidhome', 'Teenhome', 'days_customer', 'NumWebVisitsMonth', 'Complain', 'Recency',], axis=1)\n",
    "data_b.columns"
   ]
  },
  {
   "cell_type": "code",
   "execution_count": 7,
   "id": "54dc52ec",
   "metadata": {},
   "outputs": [
    {
     "data": {
      "text/html": [
       "<div>\n",
       "<style scoped>\n",
       "    .dataframe tbody tr th:only-of-type {\n",
       "        vertical-align: middle;\n",
       "    }\n",
       "\n",
       "    .dataframe tbody tr th {\n",
       "        vertical-align: top;\n",
       "    }\n",
       "\n",
       "    .dataframe thead th {\n",
       "        text-align: right;\n",
       "    }\n",
       "</style>\n",
       "<table border=\"1\" class=\"dataframe\">\n",
       "  <thead>\n",
       "    <tr style=\"text-align: right;\">\n",
       "      <th></th>\n",
       "      <th>NumDealsPurchases</th>\n",
       "      <th>Response</th>\n",
       "      <th>any_promo</th>\n",
       "      <th>Total_products</th>\n",
       "      <th>Total_spent</th>\n",
       "    </tr>\n",
       "  </thead>\n",
       "  <tbody>\n",
       "    <tr>\n",
       "      <th>0</th>\n",
       "      <td>3</td>\n",
       "      <td>1</td>\n",
       "      <td>0</td>\n",
       "      <td>1617</td>\n",
       "      <td>22</td>\n",
       "    </tr>\n",
       "    <tr>\n",
       "      <th>1</th>\n",
       "      <td>2</td>\n",
       "      <td>0</td>\n",
       "      <td>0</td>\n",
       "      <td>27</td>\n",
       "      <td>4</td>\n",
       "    </tr>\n",
       "    <tr>\n",
       "      <th>2</th>\n",
       "      <td>1</td>\n",
       "      <td>0</td>\n",
       "      <td>0</td>\n",
       "      <td>776</td>\n",
       "      <td>20</td>\n",
       "    </tr>\n",
       "    <tr>\n",
       "      <th>3</th>\n",
       "      <td>2</td>\n",
       "      <td>0</td>\n",
       "      <td>0</td>\n",
       "      <td>53</td>\n",
       "      <td>6</td>\n",
       "    </tr>\n",
       "    <tr>\n",
       "      <th>4</th>\n",
       "      <td>5</td>\n",
       "      <td>0</td>\n",
       "      <td>0</td>\n",
       "      <td>422</td>\n",
       "      <td>14</td>\n",
       "    </tr>\n",
       "    <tr>\n",
       "      <th>...</th>\n",
       "      <td>...</td>\n",
       "      <td>...</td>\n",
       "      <td>...</td>\n",
       "      <td>...</td>\n",
       "      <td>...</td>\n",
       "    </tr>\n",
       "    <tr>\n",
       "      <th>2232</th>\n",
       "      <td>2</td>\n",
       "      <td>0</td>\n",
       "      <td>0</td>\n",
       "      <td>1341</td>\n",
       "      <td>16</td>\n",
       "    </tr>\n",
       "    <tr>\n",
       "      <th>2233</th>\n",
       "      <td>7</td>\n",
       "      <td>0</td>\n",
       "      <td>1</td>\n",
       "      <td>444</td>\n",
       "      <td>15</td>\n",
       "    </tr>\n",
       "    <tr>\n",
       "      <th>2234</th>\n",
       "      <td>1</td>\n",
       "      <td>0</td>\n",
       "      <td>1</td>\n",
       "      <td>1241</td>\n",
       "      <td>18</td>\n",
       "    </tr>\n",
       "    <tr>\n",
       "      <th>2235</th>\n",
       "      <td>2</td>\n",
       "      <td>0</td>\n",
       "      <td>0</td>\n",
       "      <td>843</td>\n",
       "      <td>21</td>\n",
       "    </tr>\n",
       "    <tr>\n",
       "      <th>2236</th>\n",
       "      <td>3</td>\n",
       "      <td>1</td>\n",
       "      <td>0</td>\n",
       "      <td>172</td>\n",
       "      <td>8</td>\n",
       "    </tr>\n",
       "  </tbody>\n",
       "</table>\n",
       "<p>2237 rows × 5 columns</p>\n",
       "</div>"
      ],
      "text/plain": [
       "      NumDealsPurchases  Response  any_promo  Total_products  Total_spent\n",
       "0                     3         1          0            1617           22\n",
       "1                     2         0          0              27            4\n",
       "2                     1         0          0             776           20\n",
       "3                     2         0          0              53            6\n",
       "4                     5         0          0             422           14\n",
       "...                 ...       ...        ...             ...          ...\n",
       "2232                  2         0          0            1341           16\n",
       "2233                  7         0          1             444           15\n",
       "2234                  1         0          1            1241           18\n",
       "2235                  2         0          0             843           21\n",
       "2236                  3         1          0             172            8\n",
       "\n",
       "[2237 rows x 5 columns]"
      ]
     },
     "execution_count": 7,
     "metadata": {},
     "output_type": "execute_result"
    }
   ],
   "source": [
    "data_b"
   ]
  },
  {
   "cell_type": "code",
   "execution_count": 8,
   "id": "06ed1d3f",
   "metadata": {},
   "outputs": [
    {
     "data": {
      "text/plain": [
       "array([[ 0.34837058,  2.3869656 , -0.43881555,  1.68515626,  1.31254342],\n",
       "       [-0.16909621, -0.41894194, -0.43881555, -0.96053885, -1.18596144],\n",
       "       [-0.686563  , -0.41894194, -0.43881555,  0.28576658,  1.03493177],\n",
       "       ...,\n",
       "       [-0.686563  , -0.41894194,  1.03510394,  1.0595076 ,  0.75732012],\n",
       "       [-0.16909621, -0.41894194, -0.43881555,  0.39725185,  1.17373759],\n",
       "       [ 0.34837058,  2.3869656 , -0.43881555, -0.71926477, -0.63073814]])"
      ]
     },
     "execution_count": 8,
     "metadata": {},
     "output_type": "execute_result"
    }
   ],
   "source": [
    "# Scale the data:\n",
    "\n",
    "scaler=StandardScaler()\n",
    "scaler.fit(data_b)\n",
    "X=scaler.transform(data_b)\n",
    "X"
   ]
  },
  {
   "cell_type": "code",
   "execution_count": 9,
   "id": "b392d3f8",
   "metadata": {},
   "outputs": [],
   "source": [
    "#Identify n clusters:\n",
    "sum_sqrd=[]\n",
    "for n in range(1,20):\n",
    "    model_km=KMeans(n_clusters=n, random_state=24)\n",
    "    model_km=model_km.fit(X)\n",
    "    sum_sqrd.append(model_km.inertia_)\n",
    "    \n",
    "#sum_sqrd  "
   ]
  },
  {
   "cell_type": "code",
   "execution_count": 10,
   "id": "0e9e9441",
   "metadata": {},
   "outputs": [
    {
     "data": {
      "image/png": "[encoded data removed]",
      "text/plain": [
       "<Figure size 432x288 with 1 Axes>"
      ]
     },
     "metadata": {},
     "output_type": "display_data"
    }
   ],
   "source": [
    "plt.style.use(\"fivethirtyeight\")\n",
    "plt.plot(range(1, 20),sum_sqrd , 'bx-')\n",
    "plt.xticks(range(1, 20))\n",
    "plt.xlabel('Number of Clusters')\n",
    "plt.ylabel('Sum_of squared distances')\n",
    "plt.show()"
   ]
  },
  {
   "cell_type": "code",
   "execution_count": 11,
   "id": "f4c4d03f",
   "metadata": {},
   "outputs": [
    {
     "data": {
      "text/plain": [
       "5"
      ]
     },
     "execution_count": 11,
     "metadata": {},
     "output_type": "execute_result"
    }
   ],
   "source": [
    "kl = KneeLocator(range(1, 20), sum_sqrd, curve=\"convex\", direction=\"decreasing\")\n",
    "kl.elbow"
   ]
  },
  {
   "cell_type": "code",
   "execution_count": 12,
   "id": "7e211709",
   "metadata": {},
   "outputs": [
    {
     "data": {
      "text/plain": [
       "array([3, 4, 0, ..., 0, 0, 3])"
      ]
     },
     "execution_count": 12,
     "metadata": {},
     "output_type": "execute_result"
    }
   ],
   "source": [
    "# KMeans the first to try:\n",
    "model_km=KMeans(n_clusters=5, n_init =10,  max_iter=400, random_state=24)\n",
    "model_km=model_km.fit(X)\n",
    "model_km.predict(X)"
   ]
  },
  {
   "cell_type": "code",
   "execution_count": 13,
   "id": "0ab18c61",
   "metadata": {},
   "outputs": [],
   "source": [
    "model_km.labels_\n",
    "labels_km=model_km.predict(X)"
   ]
  },
  {
   "cell_type": "code",
   "execution_count": 14,
   "id": "4af90407",
   "metadata": {},
   "outputs": [
    {
     "name": "stdout",
     "output_type": "stream",
     "text": [
      "Silhouetter Score: 0.459\n"
     ]
    }
   ],
   "source": [
    "# Calculate Silhoutte Score\n",
    "\n",
    "score = silhouette_score(X, model_km.labels_, metric='euclidean')\n",
    "\n",
    "print('Silhouetter Score:', round(score, 3))"
   ]
  },
  {
   "cell_type": "code",
   "execution_count": 15,
   "id": "ad50b595",
   "metadata": {},
   "outputs": [
    {
     "data": {
      "text/html": [
       "<div>\n",
       "<style scoped>\n",
       "    .dataframe tbody tr th:only-of-type {\n",
       "        vertical-align: middle;\n",
       "    }\n",
       "\n",
       "    .dataframe tbody tr th {\n",
       "        vertical-align: top;\n",
       "    }\n",
       "\n",
       "    .dataframe thead th {\n",
       "        text-align: right;\n",
       "    }\n",
       "</style>\n",
       "<table border=\"1\" class=\"dataframe\">\n",
       "  <thead>\n",
       "    <tr style=\"text-align: right;\">\n",
       "      <th></th>\n",
       "      <th>NumDealsPurchases</th>\n",
       "      <th>Response</th>\n",
       "      <th>any_promo</th>\n",
       "      <th>Total_products</th>\n",
       "      <th>Total_spent</th>\n",
       "      <th>labels</th>\n",
       "    </tr>\n",
       "  </thead>\n",
       "  <tbody>\n",
       "    <tr>\n",
       "      <th>0</th>\n",
       "      <td>0.348371</td>\n",
       "      <td>2.386966</td>\n",
       "      <td>-0.438816</td>\n",
       "      <td>1.685156</td>\n",
       "      <td>1.312543</td>\n",
       "      <td>3</td>\n",
       "    </tr>\n",
       "    <tr>\n",
       "      <th>1</th>\n",
       "      <td>-0.169096</td>\n",
       "      <td>-0.418942</td>\n",
       "      <td>-0.438816</td>\n",
       "      <td>-0.960539</td>\n",
       "      <td>-1.185961</td>\n",
       "      <td>4</td>\n",
       "    </tr>\n",
       "    <tr>\n",
       "      <th>2</th>\n",
       "      <td>-0.686563</td>\n",
       "      <td>-0.418942</td>\n",
       "      <td>-0.438816</td>\n",
       "      <td>0.285767</td>\n",
       "      <td>1.034932</td>\n",
       "      <td>0</td>\n",
       "    </tr>\n",
       "    <tr>\n",
       "      <th>3</th>\n",
       "      <td>-0.169096</td>\n",
       "      <td>-0.418942</td>\n",
       "      <td>-0.438816</td>\n",
       "      <td>-0.917276</td>\n",
       "      <td>-0.908350</td>\n",
       "      <td>4</td>\n",
       "    </tr>\n",
       "    <tr>\n",
       "      <th>4</th>\n",
       "      <td>1.383304</td>\n",
       "      <td>-0.418942</td>\n",
       "      <td>-0.438816</td>\n",
       "      <td>-0.303275</td>\n",
       "      <td>0.202097</td>\n",
       "      <td>2</td>\n",
       "    </tr>\n",
       "    <tr>\n",
       "      <th>...</th>\n",
       "      <td>...</td>\n",
       "      <td>...</td>\n",
       "      <td>...</td>\n",
       "      <td>...</td>\n",
       "      <td>...</td>\n",
       "      <td>...</td>\n",
       "    </tr>\n",
       "    <tr>\n",
       "      <th>2232</th>\n",
       "      <td>-0.169096</td>\n",
       "      <td>-0.418942</td>\n",
       "      <td>-0.438816</td>\n",
       "      <td>1.225904</td>\n",
       "      <td>0.479708</td>\n",
       "      <td>0</td>\n",
       "    </tr>\n",
       "    <tr>\n",
       "      <th>2233</th>\n",
       "      <td>2.418238</td>\n",
       "      <td>-0.418942</td>\n",
       "      <td>1.035104</td>\n",
       "      <td>-0.266668</td>\n",
       "      <td>0.340903</td>\n",
       "      <td>2</td>\n",
       "    </tr>\n",
       "    <tr>\n",
       "      <th>2234</th>\n",
       "      <td>-0.686563</td>\n",
       "      <td>-0.418942</td>\n",
       "      <td>1.035104</td>\n",
       "      <td>1.059508</td>\n",
       "      <td>0.757320</td>\n",
       "      <td>0</td>\n",
       "    </tr>\n",
       "    <tr>\n",
       "      <th>2235</th>\n",
       "      <td>-0.169096</td>\n",
       "      <td>-0.418942</td>\n",
       "      <td>-0.438816</td>\n",
       "      <td>0.397252</td>\n",
       "      <td>1.173738</td>\n",
       "      <td>0</td>\n",
       "    </tr>\n",
       "    <tr>\n",
       "      <th>2236</th>\n",
       "      <td>0.348371</td>\n",
       "      <td>2.386966</td>\n",
       "      <td>-0.438816</td>\n",
       "      <td>-0.719265</td>\n",
       "      <td>-0.630738</td>\n",
       "      <td>3</td>\n",
       "    </tr>\n",
       "  </tbody>\n",
       "</table>\n",
       "<p>2237 rows × 6 columns</p>\n",
       "</div>"
      ],
      "text/plain": [
       "      NumDealsPurchases  Response  any_promo  Total_products  Total_spent  \\\n",
       "0              0.348371  2.386966  -0.438816        1.685156     1.312543   \n",
       "1             -0.169096 -0.418942  -0.438816       -0.960539    -1.185961   \n",
       "2             -0.686563 -0.418942  -0.438816        0.285767     1.034932   \n",
       "3             -0.169096 -0.418942  -0.438816       -0.917276    -0.908350   \n",
       "4              1.383304 -0.418942  -0.438816       -0.303275     0.202097   \n",
       "...                 ...       ...        ...             ...          ...   \n",
       "2232          -0.169096 -0.418942  -0.438816        1.225904     0.479708   \n",
       "2233           2.418238 -0.418942   1.035104       -0.266668     0.340903   \n",
       "2234          -0.686563 -0.418942   1.035104        1.059508     0.757320   \n",
       "2235          -0.169096 -0.418942  -0.438816        0.397252     1.173738   \n",
       "2236           0.348371  2.386966  -0.438816       -0.719265    -0.630738   \n",
       "\n",
       "      labels  \n",
       "0          3  \n",
       "1          4  \n",
       "2          0  \n",
       "3          4  \n",
       "4          2  \n",
       "...      ...  \n",
       "2232       0  \n",
       "2233       2  \n",
       "2234       0  \n",
       "2235       0  \n",
       "2236       3  \n",
       "\n",
       "[2237 rows x 6 columns]"
      ]
     },
     "execution_count": 15,
     "metadata": {},
     "output_type": "execute_result"
    }
   ],
   "source": [
    "# Create labeled data:\n",
    "df1=pd.DataFrame(X, columns=data_b.columns)\n",
    "df1\n",
    "df2=pd.DataFrame(labels_km)\n",
    "df2.set_axis(['labels'], axis=1, inplace=True)\n",
    "df2\n",
    "data_l=pd.concat([df1,df2], axis=1)\n",
    "data_l"
   ]
  },
  {
   "cell_type": "code",
   "execution_count": 16,
   "id": "3a85eb5c",
   "metadata": {},
   "outputs": [
    {
     "data": {
      "image/png": "[encoded data removed]",
      "text/plain": [
       "<Figure size 432x288 with 1 Axes>"
      ]
     },
     "metadata": {},
     "output_type": "display_data"
    }
   ],
   "source": [
    "# Steps to plot the clusters:\n",
    "\n",
    "pca = sklearn.decomposition.PCA()\n",
    "pca.fit(X)\n",
    "\n",
    "\n",
    "PC_values = np.arange(pca.n_components_) + 1\n",
    "plt.plot(PC_values, pca.explained_variance_ratio_, '-', linewidth=2, color='blue')\n",
    "plt.title('PCA Plot')\n",
    "plt.xlabel('Principal Component')\n",
    "plt.ylabel('Variance Explained')\n",
    "plt.show()"
   ]
  },
  {
   "cell_type": "code",
   "execution_count": 17,
   "id": "e2289936",
   "metadata": {},
   "outputs": [
    {
     "data": {
      "text/plain": [
       "4    998\n",
       "0    628\n",
       "2    241\n",
       "3    206\n",
       "1    164\n",
       "Name: labels, dtype: int64"
      ]
     },
     "execution_count": 17,
     "metadata": {},
     "output_type": "execute_result"
    }
   ],
   "source": [
    "data_l['labels'].value_counts()"
   ]
  },
  {
   "cell_type": "code",
   "execution_count": 18,
   "id": "eed0595e",
   "metadata": {},
   "outputs": [
    {
     "data": {
      "text/plain": [
       "[3, 4, 0, 2, 1]"
      ]
     },
     "execution_count": 18,
     "metadata": {},
     "output_type": "execute_result"
    }
   ],
   "source": [
    "l_km=[]\n",
    "labels_t=list(labels_km)\n",
    "for x in labels_t:\n",
    "    if x not in l_km:\n",
    "        l_km.append(x)\n",
    "l_km   "
   ]
  },
  {
   "cell_type": "code",
   "execution_count": 19,
   "id": "fc5aabc4",
   "metadata": {},
   "outputs": [
    {
     "data": {
      "image/png": "[encoded data removed]",
      "text/plain": [
       "<Figure size 432x288 with 1 Axes>"
      ]
     },
     "metadata": {},
     "output_type": "display_data"
    }
   ],
   "source": [
    "components=pca.transform(X)\n",
    "plot = plt.scatter(components[:,0], components[:,1], c=data_l['labels'])\n",
    "plt.legend(handles=plot.legend_elements()[0], labels=l_km)\n",
    "plt.show()\n",
    "\n",
    "# The clusters look very dense, with some overlapping"
   ]
  },
  {
   "cell_type": "code",
   "execution_count": 20,
   "id": "eaaa0037",
   "metadata": {},
   "outputs": [
    {
     "data": {
      "text/plain": [
       "array([1, 0, 1, ..., 1, 1, 0])"
      ]
     },
     "execution_count": 20,
     "metadata": {},
     "output_type": "execute_result"
    }
   ],
   "source": [
    "model_km2=KMeans(n_clusters=2, n_init =10,  max_iter=400, random_state=24)\n",
    "model_km2=model_km2.fit(X)\n",
    "model_km2.predict(X)"
   ]
  },
  {
   "cell_type": "code",
   "execution_count": 21,
   "id": "c4c02dde",
   "metadata": {},
   "outputs": [],
   "source": [
    "model_km2.labels_\n",
    "labels_km_2=model_km2.predict(X)"
   ]
  },
  {
   "cell_type": "code",
   "execution_count": 22,
   "id": "7b601618",
   "metadata": {},
   "outputs": [
    {
     "name": "stdout",
     "output_type": "stream",
     "text": [
      "Silhouetter Score: 0.378\n"
     ]
    }
   ],
   "source": [
    "score_2 = silhouette_score(X, model_km2.labels_, metric='euclidean')\n",
    "\n",
    "print('Silhouetter Score:', round(score_2, 3))"
   ]
  },
  {
   "cell_type": "code",
   "execution_count": 23,
   "id": "a5d6b4b1",
   "metadata": {},
   "outputs": [
    {
     "data": {
      "text/plain": [
       "0.3776929187216319"
      ]
     },
     "execution_count": 23,
     "metadata": {},
     "output_type": "execute_result"
    }
   ],
   "source": [
    "km_t=KMeans(max_iter=200, n_clusters=2, n_init=1, random_state=24).fit(X)\n",
    "score = silhouette_score(X, km_t.labels_, metric='euclidean')\n",
    "score\n",
    "# Didn't improve the score. Manual search might be needed."
   ]
  },
  {
   "cell_type": "code",
   "execution_count": 24,
   "id": "7864f102",
   "metadata": {},
   "outputs": [
    {
     "data": {
      "text/plain": [
       "0.4589645318115433"
      ]
     },
     "execution_count": 24,
     "metadata": {},
     "output_type": "execute_result"
    }
   ],
   "source": [
    "m_model_=KMeans(max_iter=200, n_clusters=5, n_init=8, random_state=24).fit(X)\n",
    "score = silhouette_score(X, m_model_.labels_, metric='euclidean')\n",
    "score"
   ]
  },
  {
   "cell_type": "code",
   "execution_count": 25,
   "id": "c6b8cb69",
   "metadata": {},
   "outputs": [
    {
     "data": {
      "text/plain": [
       "(array([0, 1, 2, 3, 4]), array([628, 164, 241, 206, 998], dtype=int64))"
      ]
     },
     "execution_count": 25,
     "metadata": {},
     "output_type": "execute_result"
    }
   ],
   "source": [
    "np.unique(m_model_.labels_, return_counts=True)"
   ]
  },
  {
   "cell_type": "code",
   "execution_count": 26,
   "id": "0591853c",
   "metadata": {},
   "outputs": [
    {
     "data": {
      "image/png": "[encoded data removed]",
      "text/plain": [
       "<Figure size 432x288 with 1 Axes>"
      ]
     },
     "metadata": {},
     "output_type": "display_data"
    }
   ],
   "source": [
    "components=pca.transform(X)\n",
    "plot = plt.scatter(components[:,0], components[:,1], c=m_model_.labels_)\n",
    "plt.legend(handles=plot.legend_elements()[0], labels=l_km)\n",
    "plt.show()"
   ]
  },
  {
   "cell_type": "code",
   "execution_count": 27,
   "id": "8596f5a1",
   "metadata": {},
   "outputs": [],
   "source": [
    "# I will also try using Affinity Propagation, although mignt not work well for this size data. \n",
    "\n"
   ]
  },
  {
   "cell_type": "code",
   "execution_count": 28,
   "id": "d20240dc",
   "metadata": {},
   "outputs": [
    {
     "data": {
      "text/plain": [
       "array([18,  1, 13, ..., 28, 41, 54], dtype=int64)"
      ]
     },
     "execution_count": 28,
     "metadata": {},
     "output_type": "execute_result"
    }
   ],
   "source": [
    "model_AP=AffinityPropagation(damping=0.9,max_iter=500,convergence_iter= 10, affinity='euclidean',  random_state=24 )\n",
    "model_AP=model_AP.fit(X)\n",
    "pred=model_AP.predict(X)\n",
    "labels=model_AP.labels_\n",
    "labels"
   ]
  },
  {
   "cell_type": "code",
   "execution_count": 29,
   "id": "5511cd03",
   "metadata": {},
   "outputs": [
    {
     "name": "stdout",
     "output_type": "stream",
     "text": [
      "Number of clusters: 63\n"
     ]
    }
   ],
   "source": [
    "cluster_centers_indices = model_AP.cluster_centers_indices_\n",
    "\n",
    "n_clusters_ = len(cluster_centers_indices)\n",
    "print('Number of clusters:', n_clusters_)"
   ]
  },
  {
   "cell_type": "code",
   "execution_count": 30,
   "id": "31a2cc4c",
   "metadata": {},
   "outputs": [
    {
     "name": "stdout",
     "output_type": "stream",
     "text": [
      "Silhouetter Score: 0.45\n"
     ]
    }
   ],
   "source": [
    "score_ap = silhouette_score(X, labels, metric='euclidean')\n",
    "\n",
    "print('Silhouetter Score:', round(score_ap, 3))"
   ]
  },
  {
   "cell_type": "code",
   "execution_count": 31,
   "id": "9a3b4518",
   "metadata": {},
   "outputs": [
    {
     "data": {
      "text/plain": [
       "array([16, 36, 12, ..., 29, 42,  1], dtype=int64)"
      ]
     },
     "execution_count": 31,
     "metadata": {},
     "output_type": "execute_result"
    }
   ],
   "source": [
    "model_AP1=AffinityPropagation(damping=0.75, max_iter=200,convergence_iter= 10, affinity='euclidean',  random_state=24 )\n",
    "model_AP1=model_AP1.fit(X)\n",
    "labels=model_AP1.labels_\n",
    "labels"
   ]
  },
  {
   "cell_type": "code",
   "execution_count": 32,
   "id": "8d6bf47e",
   "metadata": {},
   "outputs": [
    {
     "name": "stdout",
     "output_type": "stream",
     "text": [
      "Number of clusters: 65\n"
     ]
    }
   ],
   "source": [
    "n_clusters_ = len(model_AP1.cluster_centers_indices_)\n",
    "print('Number of clusters:', n_clusters_)"
   ]
  },
  {
   "cell_type": "code",
   "execution_count": 33,
   "id": "583ca89d",
   "metadata": {},
   "outputs": [
    {
     "name": "stdout",
     "output_type": "stream",
     "text": [
      "Silhouetter Score: 0.458\n"
     ]
    }
   ],
   "source": [
    "score_ap = silhouette_score(X, labels, metric='euclidean')\n",
    "\n",
    "print('Silhouetter Score:', round(score_ap, 3))\n",
    "\n",
    "# The score is higher but we still have too many clusters. We will not be able to use it effectively."
   ]
  },
  {
   "cell_type": "code",
   "execution_count": 34,
   "id": "79bf1ad0",
   "metadata": {},
   "outputs": [
    {
     "data": {
      "text/plain": [
       "2.6953823068536176"
      ]
     },
     "execution_count": 34,
     "metadata": {},
     "output_type": "execute_result"
    }
   ],
   "source": [
    "#Next I will try Mean shift which is more robust but also more computationaly expensive.\n",
    "#We start with estimating the bandwidth:\n",
    "bandwidth = estimate_bandwidth(X, quantile=0.5)\n",
    "bandwidth"
   ]
  },
  {
   "cell_type": "code",
   "execution_count": 35,
   "id": "e1a9984c",
   "metadata": {},
   "outputs": [
    {
     "name": "stdout",
     "output_type": "stream",
     "text": [
      "3\n"
     ]
    },
    {
     "data": {
      "text/plain": [
       "array([0, 1, 2], dtype=int64)"
      ]
     },
     "execution_count": 35,
     "metadata": {},
     "output_type": "execute_result"
    }
   ],
   "source": [
    "#Next I will try MeanShift:\n",
    "\n",
    "meanshift = MeanShift(bandwidth=bandwidth)\n",
    "meanshift.fit(X)\n",
    "labels_ms = meanshift.labels_\n",
    "labels_unique = np.unique(labels_ms)\n",
    "n_clusters_ = len(labels_unique)\n",
    "print(n_clusters_)\n",
    "labels_unique "
   ]
  },
  {
   "cell_type": "code",
   "execution_count": 60,
   "id": "b0cf6bc1",
   "metadata": {},
   "outputs": [
    {
     "ename": "KeyError",
     "evalue": "'labels_'",
     "output_type": "error",
     "traceback": [
      "\u001b[1;31m---------------------------------------------------------------------------\u001b[0m",
      "\u001b[1;31mKeyError\u001b[0m                                  Traceback (most recent call last)",
      "\u001b[1;32m~\\anaconda3\\lib\\site-packages\\pandas\\core\\indexes\\base.py\u001b[0m in \u001b[0;36mget_loc\u001b[1;34m(self, key, method, tolerance)\u001b[0m\n\u001b[0;32m   3079\u001b[0m             \u001b[1;32mtry\u001b[0m\u001b[1;33m:\u001b[0m\u001b[1;33m\u001b[0m\u001b[1;33m\u001b[0m\u001b[0m\n\u001b[1;32m-> 3080\u001b[1;33m                 \u001b[1;32mreturn\u001b[0m \u001b[0mself\u001b[0m\u001b[1;33m.\u001b[0m\u001b[0m_engine\u001b[0m\u001b[1;33m.\u001b[0m\u001b[0mget_loc\u001b[0m\u001b[1;33m(\u001b[0m\u001b[0mcasted_key\u001b[0m\u001b[1;33m)\u001b[0m\u001b[1;33m\u001b[0m\u001b[1;33m\u001b[0m\u001b[0m\n\u001b[0m\u001b[0;32m   3081\u001b[0m             \u001b[1;32mexcept\u001b[0m \u001b[0mKeyError\u001b[0m \u001b[1;32mas\u001b[0m \u001b[0merr\u001b[0m\u001b[1;33m:\u001b[0m\u001b[1;33m\u001b[0m\u001b[1;33m\u001b[0m\u001b[0m\n",
      "\u001b[1;32mpandas\\_libs\\index.pyx\u001b[0m in \u001b[0;36mpandas._libs.index.IndexEngine.get_loc\u001b[1;34m()\u001b[0m\n",
      "\u001b[1;32mpandas\\_libs\\index.pyx\u001b[0m in \u001b[0;36mpandas._libs.index.IndexEngine.get_loc\u001b[1;34m()\u001b[0m\n",
      "\u001b[1;32mpandas\\_libs\\hashtable_class_helper.pxi\u001b[0m in \u001b[0;36mpandas._libs.hashtable.PyObjectHashTable.get_item\u001b[1;34m()\u001b[0m\n",
      "\u001b[1;32mpandas\\_libs\\hashtable_class_helper.pxi\u001b[0m in \u001b[0;36mpandas._libs.hashtable.PyObjectHashTable.get_item\u001b[1;34m()\u001b[0m\n",
      "\u001b[1;31mKeyError\u001b[0m: 'labels_'",
      "\nThe above exception was the direct cause of the following exception:\n",
      "\u001b[1;31mKeyError\u001b[0m                                  Traceback (most recent call last)",
      "\u001b[1;32m<ipython-input-60-2cd1a58da8eb>\u001b[0m in \u001b[0;36m<module>\u001b[1;34m\u001b[0m\n\u001b[0;32m      1\u001b[0m \u001b[0mcomponents\u001b[0m\u001b[1;33m=\u001b[0m\u001b[0mpca\u001b[0m\u001b[1;33m.\u001b[0m\u001b[0mtransform\u001b[0m\u001b[1;33m(\u001b[0m\u001b[0mX\u001b[0m\u001b[1;33m)\u001b[0m\u001b[1;33m\u001b[0m\u001b[1;33m\u001b[0m\u001b[0m\n\u001b[1;32m----> 2\u001b[1;33m \u001b[0mplot\u001b[0m \u001b[1;33m=\u001b[0m \u001b[0mplt\u001b[0m\u001b[1;33m.\u001b[0m\u001b[0mscatter\u001b[0m\u001b[1;33m(\u001b[0m\u001b[0mcomponents\u001b[0m\u001b[1;33m[\u001b[0m\u001b[1;33m:\u001b[0m\u001b[1;33m,\u001b[0m\u001b[1;36m0\u001b[0m\u001b[1;33m]\u001b[0m\u001b[1;33m,\u001b[0m \u001b[0mcomponents\u001b[0m\u001b[1;33m[\u001b[0m\u001b[1;33m:\u001b[0m\u001b[1;33m,\u001b[0m\u001b[1;36m1\u001b[0m\u001b[1;33m]\u001b[0m\u001b[1;33m,\u001b[0m \u001b[0mc\u001b[0m\u001b[1;33m=\u001b[0m\u001b[0mdata_l\u001b[0m\u001b[1;33m[\u001b[0m\u001b[1;34m\"labels_\"\u001b[0m\u001b[1;33m]\u001b[0m\u001b[1;33m)\u001b[0m\u001b[1;33m\u001b[0m\u001b[1;33m\u001b[0m\u001b[0m\n\u001b[0m\u001b[0;32m      3\u001b[0m \u001b[0mplt\u001b[0m\u001b[1;33m.\u001b[0m\u001b[0mlegend\u001b[0m\u001b[1;33m(\u001b[0m\u001b[0mhandles\u001b[0m\u001b[1;33m=\u001b[0m\u001b[0mplot\u001b[0m\u001b[1;33m.\u001b[0m\u001b[0mlegend_elements\u001b[0m\u001b[1;33m(\u001b[0m\u001b[1;33m)\u001b[0m\u001b[1;33m[\u001b[0m\u001b[1;36m0\u001b[0m\u001b[1;33m]\u001b[0m\u001b[1;33m,\u001b[0m \u001b[0mlabels\u001b[0m\u001b[1;33m=\u001b[0m\u001b[0ml_mst\u001b[0m\u001b[1;33m)\u001b[0m\u001b[1;33m\u001b[0m\u001b[1;33m\u001b[0m\u001b[0m\n\u001b[0;32m      4\u001b[0m \u001b[0mplt\u001b[0m\u001b[1;33m.\u001b[0m\u001b[0mshow\u001b[0m\u001b[1;33m(\u001b[0m\u001b[1;33m)\u001b[0m\u001b[1;33m\u001b[0m\u001b[1;33m\u001b[0m\u001b[0m\n",
      "\u001b[1;32m~\\anaconda3\\lib\\site-packages\\pandas\\core\\frame.py\u001b[0m in \u001b[0;36m__getitem__\u001b[1;34m(self, key)\u001b[0m\n\u001b[0;32m   3022\u001b[0m             \u001b[1;32mif\u001b[0m \u001b[0mself\u001b[0m\u001b[1;33m.\u001b[0m\u001b[0mcolumns\u001b[0m\u001b[1;33m.\u001b[0m\u001b[0mnlevels\u001b[0m \u001b[1;33m>\u001b[0m \u001b[1;36m1\u001b[0m\u001b[1;33m:\u001b[0m\u001b[1;33m\u001b[0m\u001b[1;33m\u001b[0m\u001b[0m\n\u001b[0;32m   3023\u001b[0m                 \u001b[1;32mreturn\u001b[0m \u001b[0mself\u001b[0m\u001b[1;33m.\u001b[0m\u001b[0m_getitem_multilevel\u001b[0m\u001b[1;33m(\u001b[0m\u001b[0mkey\u001b[0m\u001b[1;33m)\u001b[0m\u001b[1;33m\u001b[0m\u001b[1;33m\u001b[0m\u001b[0m\n\u001b[1;32m-> 3024\u001b[1;33m             \u001b[0mindexer\u001b[0m \u001b[1;33m=\u001b[0m \u001b[0mself\u001b[0m\u001b[1;33m.\u001b[0m\u001b[0mcolumns\u001b[0m\u001b[1;33m.\u001b[0m\u001b[0mget_loc\u001b[0m\u001b[1;33m(\u001b[0m\u001b[0mkey\u001b[0m\u001b[1;33m)\u001b[0m\u001b[1;33m\u001b[0m\u001b[1;33m\u001b[0m\u001b[0m\n\u001b[0m\u001b[0;32m   3025\u001b[0m             \u001b[1;32mif\u001b[0m \u001b[0mis_integer\u001b[0m\u001b[1;33m(\u001b[0m\u001b[0mindexer\u001b[0m\u001b[1;33m)\u001b[0m\u001b[1;33m:\u001b[0m\u001b[1;33m\u001b[0m\u001b[1;33m\u001b[0m\u001b[0m\n\u001b[0;32m   3026\u001b[0m                 \u001b[0mindexer\u001b[0m \u001b[1;33m=\u001b[0m \u001b[1;33m[\u001b[0m\u001b[0mindexer\u001b[0m\u001b[1;33m]\u001b[0m\u001b[1;33m\u001b[0m\u001b[1;33m\u001b[0m\u001b[0m\n",
      "\u001b[1;32m~\\anaconda3\\lib\\site-packages\\pandas\\core\\indexes\\base.py\u001b[0m in \u001b[0;36mget_loc\u001b[1;34m(self, key, method, tolerance)\u001b[0m\n\u001b[0;32m   3080\u001b[0m                 \u001b[1;32mreturn\u001b[0m \u001b[0mself\u001b[0m\u001b[1;33m.\u001b[0m\u001b[0m_engine\u001b[0m\u001b[1;33m.\u001b[0m\u001b[0mget_loc\u001b[0m\u001b[1;33m(\u001b[0m\u001b[0mcasted_key\u001b[0m\u001b[1;33m)\u001b[0m\u001b[1;33m\u001b[0m\u001b[1;33m\u001b[0m\u001b[0m\n\u001b[0;32m   3081\u001b[0m             \u001b[1;32mexcept\u001b[0m \u001b[0mKeyError\u001b[0m \u001b[1;32mas\u001b[0m \u001b[0merr\u001b[0m\u001b[1;33m:\u001b[0m\u001b[1;33m\u001b[0m\u001b[1;33m\u001b[0m\u001b[0m\n\u001b[1;32m-> 3082\u001b[1;33m                 \u001b[1;32mraise\u001b[0m \u001b[0mKeyError\u001b[0m\u001b[1;33m(\u001b[0m\u001b[0mkey\u001b[0m\u001b[1;33m)\u001b[0m \u001b[1;32mfrom\u001b[0m \u001b[0merr\u001b[0m\u001b[1;33m\u001b[0m\u001b[1;33m\u001b[0m\u001b[0m\n\u001b[0m\u001b[0;32m   3083\u001b[0m \u001b[1;33m\u001b[0m\u001b[0m\n\u001b[0;32m   3084\u001b[0m         \u001b[1;32mif\u001b[0m \u001b[0mtolerance\u001b[0m \u001b[1;32mis\u001b[0m \u001b[1;32mnot\u001b[0m \u001b[1;32mNone\u001b[0m\u001b[1;33m:\u001b[0m\u001b[1;33m\u001b[0m\u001b[1;33m\u001b[0m\u001b[0m\n",
      "\u001b[1;31mKeyError\u001b[0m: 'labels_'"
     ]
    }
   ],
   "source": [
    "components=pca.transform(X)\n",
    "plot = plt.scatter(components[:,0], components[:,1], c=data_l[\"labels_\"])\n",
    "plt.legend(handles=plot.legend_elements()[0], labels=l_mst)\n",
    "plt.show()"
   ]
  },
  {
   "cell_type": "code",
   "execution_count": 37,
   "id": "957dd5b2",
   "metadata": {},
   "outputs": [
    {
     "data": {
      "text/plain": [
       "(array([0, 1, 2, 3], dtype=int64),\n",
       " array([ 196,   35,  229, 1777], dtype=int64))"
      ]
     },
     "execution_count": 37,
     "metadata": {},
     "output_type": "execute_result"
    }
   ],
   "source": [
    "# I will try another robust model to see if the score can be improved.\n",
    "model_brc = Birch(n_clusters=4)\n",
    "model_brc.fit(X)\n",
    "brc_labels=model_brc.predict(X)\n",
    "np.unique(brc_labels, return_counts=True)"
   ]
  },
  {
   "cell_type": "code",
   "execution_count": 38,
   "id": "bfff4546",
   "metadata": {},
   "outputs": [
    {
     "name": "stdout",
     "output_type": "stream",
     "text": [
      "Silhouetter Score: 0.423\n"
     ]
    }
   ],
   "source": [
    "score_brc = silhouette_score(X, brc_labels, metric='euclidean')\n",
    "\n",
    "print('Silhouetter Score:', round(score_brc, 3))\n"
   ]
  },
  {
   "cell_type": "code",
   "execution_count": 39,
   "id": "ee790e0f",
   "metadata": {},
   "outputs": [
    {
     "data": {
      "text/plain": [
       "{'branching_factor': 50,\n",
       " 'compute_labels': True,\n",
       " 'copy': True,\n",
       " 'n_clusters': 3,\n",
       " 'threshold': 0.5}"
      ]
     },
     "execution_count": 39,
     "metadata": {},
     "output_type": "execute_result"
    }
   ],
   "source": [
    "Birch().get_params()"
   ]
  },
  {
   "cell_type": "code",
   "execution_count": 40,
   "id": "f842effa",
   "metadata": {},
   "outputs": [
    {
     "data": {
      "text/plain": [
       "2"
      ]
     },
     "execution_count": 40,
     "metadata": {},
     "output_type": "execute_result"
    }
   ],
   "source": [
    "model_brco=Birch(branching_factor= 100, compute_labels=True, n_clusters= 2, threshold= 0.5)\n",
    "\n",
    "#model_brct=Birch(branching_factor= 25, compute_labels=True, copy= True, n_clusters= 3, threshold= 0.25)\n",
    "model_brco.fit(X)\n",
    "labels_brco=model_brco.predict(X)\n",
    "len(np.unique(labels_brco))"
   ]
  },
  {
   "cell_type": "code",
   "execution_count": 41,
   "id": "f0e896be",
   "metadata": {},
   "outputs": [
    {
     "name": "stdout",
     "output_type": "stream",
     "text": [
      "Silhouetter Score: 0.482\n"
     ]
    }
   ],
   "source": [
    "score_brco= silhouette_score(X, labels_brco, metric='euclidean')\n",
    "\n",
    "print('Silhouetter Score:', round(score_brco, 3))"
   ]
  },
  {
   "cell_type": "markdown",
   "id": "619b1648",
   "metadata": {},
   "source": [
    "This is the highest score so far. It only has two groups."
   ]
  },
  {
   "cell_type": "code",
   "execution_count": 42,
   "id": "cb1a8c30",
   "metadata": {},
   "outputs": [
    {
     "data": {
      "text/plain": [
       "[0, 1]"
      ]
     },
     "execution_count": 42,
     "metadata": {},
     "output_type": "execute_result"
    }
   ],
   "source": [
    "brco_list=list(np.unique(labels_brco))\n",
    "brco_list"
   ]
  },
  {
   "cell_type": "code",
   "execution_count": 43,
   "id": "d627694c",
   "metadata": {},
   "outputs": [
    {
     "data": {
      "image/png": "[encoded data removed]",
      "text/plain": [
       "<Figure size 432x288 with 1 Axes>"
      ]
     },
     "metadata": {},
     "output_type": "display_data"
    }
   ],
   "source": [
    "components=pca.transform(X)\n",
    "plot = plt.scatter(components[:,0], components[:,1], c=labels_brco)\n",
    "plt.legend(handles=plot.legend_elements()[0], labels=brco_list)\n",
    "plt.show()"
   ]
  },
  {
   "cell_type": "code",
   "execution_count": null,
   "id": "e1050620",
   "metadata": {},
   "outputs": [],
   "source": [
    "np.unique(labels_brco, return_counts=True)"
   ]
  },
  {
   "cell_type": "code",
   "execution_count": 44,
   "id": "fc0bdb9b",
   "metadata": {},
   "outputs": [
    {
     "name": "stdout",
     "output_type": "stream",
     "text": [
      "2 2 Silhouetter Score: 0.377\n",
      "3 3 Silhouetter Score: 0.4\n",
      "4 4 Silhouetter Score: 0.355\n",
      "5 5 Silhouetter Score: 0.349\n",
      "6 6 Silhouetter Score: 0.367\n",
      "7 7 Silhouetter Score: 0.374\n",
      "8 8 Silhouetter Score: 0.266\n",
      "9 9 Silhouetter Score: 0.277\n",
      "10 10 Silhouetter Score: 0.286\n"
     ]
    }
   ],
   "source": [
    "# Manualy search for best silhouette_score to select number of clusters:\n",
    "components=[2,3,4,5,6,7,8,9,10]\n",
    "for n  in components:\n",
    "    bm_model= BisectingKMeans(n_clusters=n, random_state=24)\n",
    "    bm_model.fit(X)\n",
    "    bm_labels=bm_model.predict(X)\n",
    "    score_bm= silhouette_score(X, bm_labels, metric='euclidean')\n",
    "    print(n, len(np.unique(bm_labels)), 'Silhouetter Score:', round(score_bm, 3))"
   ]
  },
  {
   "cell_type": "code",
   "execution_count": 45,
   "id": "a8e3a1ba",
   "metadata": {},
   "outputs": [],
   "source": [
    "# KMeans it the best model so far.\n",
    "# Now I will try BisectingKMeans wich is based on k means but can give similar proportions clusters with better clustering accuray.\n",
    "# The same number of clusters will be used\n",
    "bisect_means = BisectingKMeans(n_clusters=2, random_state=24)\n",
    "bisect_means.fit(X)\n",
    "bisect_labels=bisect_means.labels_"
   ]
  },
  {
   "cell_type": "code",
   "execution_count": 46,
   "id": "a76af134",
   "metadata": {},
   "outputs": [
    {
     "name": "stdout",
     "output_type": "stream",
     "text": [
      "Silhouetter Score: 0.377\n"
     ]
    }
   ],
   "source": [
    "score_bm= silhouette_score(X, bisect_labels, metric='euclidean')\n",
    "\n",
    "print('Silhouetter Score:', round(score_bm, 3))"
   ]
  },
  {
   "cell_type": "code",
   "execution_count": 47,
   "id": "d0cf47d7",
   "metadata": {},
   "outputs": [
    {
     "name": "stdout",
     "output_type": "stream",
     "text": [
      "Silhouetter Score: 0.429\n",
      "(array([0, 1, 2, 3, 4, 5]), array([1183,   99,  562,  148,  151,   94], dtype=int64))\n"
     ]
    }
   ],
   "source": [
    "bkm=BisectingKMeans(n_clusters=6, bisecting_strategy= 'biggest_inertia',max_iter=100, n_init=2, init= 'k-means++', random_state=24)\n",
    "bkm.fit(X)\n",
    "bkm_labels=bkm.predict(X)\n",
    "score_bkm= silhouette_score(X, bkm_labels, metric='euclidean')\n",
    "\n",
    "print('Silhouetter Score:', round(score_bkm, 3))\n",
    "\n",
    "print(np.unique(bkm_labels, return_counts=True))"
   ]
  },
  {
   "cell_type": "code",
   "execution_count": 48,
   "id": "7bc550eb",
   "metadata": {},
   "outputs": [
    {
     "name": "stdout",
     "output_type": "stream",
     "text": [
      "2 2 Silhouetter Score: 0.314\n",
      "3 3 Silhouetter Score: 0.312\n",
      "4 4 Silhouetter Score: 0.286\n",
      "5 5 Silhouetter Score: 0.256\n",
      "6 6 Silhouetter Score: 0.176\n",
      "7 7 Silhouetter Score: 0.355\n",
      "8 8 Silhouetter Score: 0.156\n",
      "9 9 Silhouetter Score: 0.295\n",
      "10 10 Silhouetter Score: 0.295\n"
     ]
    }
   ],
   "source": [
    "#We can also try probability based, soft clustering: \n",
    "# Sart with number of clusters search:\n",
    "components=[2,3,4,5,6,7,8,9,10]\n",
    "for n  in components:\n",
    "    gm_model= GaussianMixture(n_components=n, random_state=24)\n",
    "    gm_model.fit(X)\n",
    "    gm_labels=gm_model.predict(X)\n",
    "    score_gm= silhouette_score(X, gm_labels, metric='euclidean')\n",
    "    print(n, len(np.unique(gm_labels)), 'Silhouetter Score:', round(score_gm, 3))"
   ]
  },
  {
   "cell_type": "code",
   "execution_count": 49,
   "id": "5250fc74",
   "metadata": {},
   "outputs": [],
   "source": [
    "gm_model1= GaussianMixture(n_components=7, random_state=24)\n",
    "gm_model1.fit(X)\n",
    "gm_labels1=gm_model1.predict(X)"
   ]
  },
  {
   "cell_type": "code",
   "execution_count": 50,
   "id": "bb6ee936",
   "metadata": {},
   "outputs": [
    {
     "name": "stdout",
     "output_type": "stream",
     "text": [
      "Silhouetter Score: 0.355\n"
     ]
    }
   ],
   "source": [
    "score_gm= silhouette_score(X, gm_labels1, metric='euclidean')\n",
    "\n",
    "print('Silhouetter Score:', round(score_gm, 3))"
   ]
  },
  {
   "cell_type": "code",
   "execution_count": 51,
   "id": "852ef1ec",
   "metadata": {},
   "outputs": [
    {
     "name": "stdout",
     "output_type": "stream",
     "text": [
      "(array([0, 1, 2, 3, 4, 5, 6, 7, 8, 9], dtype=int64), array([596, 119,  30,   6, 134, 110,  88, 570, 451, 133], dtype=int64))\n"
     ]
    }
   ],
   "source": [
    "print(np.unique(gm_labels, return_counts=True))"
   ]
  },
  {
   "cell_type": "code",
   "execution_count": 52,
   "id": "8b44c281",
   "metadata": {},
   "outputs": [
    {
     "name": "stdout",
     "output_type": "stream",
     "text": [
      "Silhouetter Score: 0.454\n",
      "(array([0, 1, 2, 3, 4, 5, 6, 7], dtype=int64), array([ 111,  163,  109,   82,   17,  572,  143, 1040], dtype=int64))\n"
     ]
    }
   ],
   "source": [
    "gm_model3= GaussianMixture(n_components=8, covariance_type= 'tied',\n",
    " init_params='kmeans',\n",
    " max_iter= 100,\n",
    " n_init= 3, random_state=24\n",
    ")\n",
    "\n",
    "gm_model3.fit(X)\n",
    "gm_labels3=gm_model3.predict(X)\n",
    "score_gm3= silhouette_score(X, gm_labels3, metric='euclidean')\n",
    "print('Silhouetter Score:', round(score_gm3, 3))\n",
    "\n",
    "print(np.unique(gm_labels3, return_counts=True))"
   ]
  },
  {
   "cell_type": "code",
   "execution_count": 53,
   "id": "f7aa3e23",
   "metadata": {},
   "outputs": [
    {
     "data": {
      "text/plain": [
       "7"
      ]
     },
     "execution_count": 53,
     "metadata": {},
     "output_type": "execute_result"
    }
   ],
   "source": [
    "#Kmedoids will be tried as well to see if a median based alegorithm can show better results.\n",
    "# Esimate elbow for the kmedoids:\n",
    "sum_sqrd1=[]\n",
    "for n in range(1,20):\n",
    "    kmedoids = KMedoids(n_clusters=n, random_state=24).fit(X)\n",
    "    sum_sqrd1.append(kmedoids.inertia_)\n",
    "sum_sqrd1\n",
    "kl2 = KneeLocator(range(1, 20), sum_sqrd1, curve=\"convex\", direction=\"decreasing\")\n",
    "kl2.elbow"
   ]
  },
  {
   "cell_type": "code",
   "execution_count": 54,
   "id": "6b86734f",
   "metadata": {},
   "outputs": [
    {
     "name": "stdout",
     "output_type": "stream",
     "text": [
      "Silhouetter Score: 0.245\n"
     ]
    }
   ],
   "source": [
    "kmedoids= KMedoids(n_clusters=7, random_state=24).fit(X)\n",
    "kmedoids_labels=kmedoids.predict(X)\n",
    "score_kmed= silhouette_score(X, kmedoids_labels, metric='euclidean')\n",
    "print( 'Silhouetter Score:', round(score_kmed, 3))"
   ]
  },
  {
   "cell_type": "code",
   "execution_count": 55,
   "id": "a950c74e",
   "metadata": {},
   "outputs": [
    {
     "name": "stdout",
     "output_type": "stream",
     "text": [
      "2 2 Silhouetter Score: 0.368\n",
      "3 3 Silhouetter Score: 0.335\n",
      "4 4 Silhouetter Score: 0.356\n",
      "5 5 Silhouetter Score: 0.267\n",
      "6 6 Silhouetter Score: 0.176\n",
      "7 7 Silhouetter Score: 0.245\n",
      "8 8 Silhouetter Score: 0.221\n",
      "9 9 Silhouetter Score: 0.211\n",
      "10 10 Silhouetter Score: 0.213\n"
     ]
    }
   ],
   "source": [
    "# The elbow method didn't show good enough results, I will continue looking for best number of clusters.\n",
    "components=[2,3,4,5,6,7,8,9,10]\n",
    "for n  in components:\n",
    "    kmedoids= KMedoids(n_clusters=n, random_state=24).fit(X)\n",
    "    kmedoids_labels=kmedoids.predict(X)\n",
    "    score_= silhouette_score(X, kmedoids_labels, metric='euclidean')\n",
    "    print(n, len(np.unique(kmedoids_labels)), 'Silhouetter Score:', round(score_, 3))"
   ]
  },
  {
   "cell_type": "code",
   "execution_count": 56,
   "id": "d85c01a5",
   "metadata": {},
   "outputs": [],
   "source": [
    "kmedoids_= KMedoids(n_clusters=2, metric=\"cosine\", init=\"heuristic\", \n",
    "      max_iter=10, random_state=24).fit(X)\n",
    "kmed_labels=kmedoids_.labels_"
   ]
  },
  {
   "cell_type": "code",
   "execution_count": 57,
   "id": "fbb7e3a6",
   "metadata": {},
   "outputs": [
    {
     "name": "stdout",
     "output_type": "stream",
     "text": [
      "Silhouetter Score: 0.369\n"
     ]
    }
   ],
   "source": [
    "score_kmed= silhouette_score(X, kmed_labels, metric='euclidean')\n",
    "print('Silhouetter Score:', round(score_kmed, 3))"
   ]
  },
  {
   "cell_type": "code",
   "execution_count": 58,
   "id": "e0267c4a",
   "metadata": {},
   "outputs": [
    {
     "name": "stdout",
     "output_type": "stream",
     "text": [
      "Silhouetter Score: 0.442\n",
      "(array([0, 1, 2, 3, 4, 5], dtype=int64), array([937, 321, 205, 158, 170, 446], dtype=int64))\n"
     ]
    }
   ],
   "source": [
    "KMedoids_1=KMedoids(init='k-medoids++', max_iter= 100, metric= 'cosine', n_clusters= 6, random_state=24)\n",
    "KMedoids_1.fit(X)\n",
    "kmd_labels=KMedoids_1.predict(X)\n",
    "score_kmd= silhouette_score(X, kmd_labels, metric='euclidean')\n",
    "print('Silhouetter Score:', round(score_kmd, 3))\n",
    "\n",
    "print(np.unique(kmd_labels, return_counts=True))"
   ]
  },
  {
   "cell_type": "code",
   "execution_count": 59,
   "id": "b0158823",
   "metadata": {},
   "outputs": [],
   "source": [
    "# Save the Models to file in the current working directory\n",
    "\n",
    "Pkl_Filename = \"model_km_features.pkl\"  \n",
    "\n",
    "with open(Pkl_Filename, 'wb') as file:  \n",
    "    pickle.dump(model_km, file)\n",
    "    "
   ]
  },
  {
   "cell_type": "code",
   "execution_count": null,
   "id": "bf5498d3",
   "metadata": {},
   "outputs": [],
   "source": [
    "Pkl_Filename = \"meanshift_pt_features.pkl\"  \n",
    "\n",
    "with open(Pkl_Filename, 'wb') as file:  \n",
    "    pickle.dump(meanshift_pt, file)"
   ]
  },
  {
   "cell_type": "code",
   "execution_count": null,
   "id": "7c9b5036",
   "metadata": {},
   "outputs": [],
   "source": [
    "Pkl_Filename = \"model_AP_features.pkl\"  \n",
    "\n",
    "with open(Pkl_Filename, 'wb') as file:  \n",
    "    pickle.dump(model_AP, file)"
   ]
  },
  {
   "cell_type": "code",
   "execution_count": null,
   "id": "0ccd55e6",
   "metadata": {},
   "outputs": [],
   "source": [
    "Pkl_Filename=\"model_brc_features.pkl\"\n",
    "\n",
    "with open(Pkl_Filename,'wb') as file:\n",
    "    pickle.dump(model_brc,file)"
   ]
  },
  {
   "cell_type": "code",
   "execution_count": null,
   "id": "9c51b989",
   "metadata": {},
   "outputs": [],
   "source": [
    "#Pkl_Filename=\"model_brco_features.pkl\"\n",
    "\n",
    "#with open(Pkl_Filename,'wb') as file:\n",
    "#pickle.dump(model_brco,file)"
   ]
  },
  {
   "cell_type": "code",
   "execution_count": null,
   "id": "869eb246",
   "metadata": {},
   "outputs": [],
   "source": [
    "Pkl_Filename=\"model_brct_features.pkl\"\n",
    "\n",
    "with open(Pkl_Filename,'wb') as file:\n",
    "    pickle.dump(model_brct,file)"
   ]
  },
  {
   "cell_type": "code",
   "execution_count": null,
   "id": "8141c8e7",
   "metadata": {},
   "outputs": [],
   "source": [
    "Pkl_Filename=\"gm_model2_features.pkl\"\n",
    "\n",
    "with open (Pkl_Filename, 'wb') as file:\n",
    "    pickle.dump(gm_model2,file)"
   ]
  },
  {
   "cell_type": "code",
   "execution_count": null,
   "id": "2b516513",
   "metadata": {},
   "outputs": [],
   "source": [
    "Pkl_Filename=\"gm_model1_features.pkl\"\n",
    "\n",
    "with open (Pkl_Filename, 'wb') as file:\n",
    "    pickle.dump(gm_model1,file)"
   ]
  },
  {
   "cell_type": "code",
   "execution_count": null,
   "id": "3385f311",
   "metadata": {},
   "outputs": [],
   "source": [
    "Pkl_Filename=\"bisect_means_features.pkl\"\n",
    "\n",
    "with open (Pkl_Filename, 'wb') as file:\n",
    "    pickle.dump(bisect_means,file)"
   ]
  },
  {
   "cell_type": "code",
   "execution_count": null,
   "id": "8d1c18a7",
   "metadata": {},
   "outputs": [],
   "source": [
    "Pkl_Filename=\"kmedoids_features.pkl\"\n",
    "\n",
    "with open (Pkl_Filename, 'wb') as file:\n",
    "    pickle.dump(kmedoids_,file)"
   ]
  },
  {
   "cell_type": "code",
   "execution_count": null,
   "id": "c1f334a4",
   "metadata": {},
   "outputs": [],
   "source": [
    "Pkl_Filename=\"m_model_features.pkl\"\n",
    "with open (Pkl_Filename, 'wb') as file:\n",
    "    pickle.dump(m_model_,file)"
   ]
  }
 ],
 "metadata": {
  "kernelspec": {
   "display_name": "Python 3",
   "language": "python",
   "name": "python3"
  },
  "language_info": {
   "codemirror_mode": {
    "name": "ipython",
    "version": 3
   },
   "file_extension": ".py",
   "mimetype": "text/x-python",
   "name": "python",
   "nbconvert_exporter": "python",
   "pygments_lexer": "ipython3",
   "version": "3.8.8"
  }
 },
 "nbformat": 4,
 "nbformat_minor": 5
}
